{
  "nbformat": 4,
  "nbformat_minor": 0,
  "metadata": {
    "colab": {
      "provenance": []
    },
    "kernelspec": {
      "name": "python3",
      "display_name": "Python 3"
    },
    "language_info": {
      "name": "python"
    }
  },
  "cells": [
    {
      "cell_type": "markdown",
      "source": [
        "**Assignment 4 - Working With Pandas**\n",
        "\n",
        "**Umit Kilinc 101232721**"
      ],
      "metadata": {
        "id": "fJ43pQAaitOv"
      }
    },
    {
      "cell_type": "code",
      "execution_count": 3,
      "metadata": {
        "id": "Ck0sLUBOipcT"
      },
      "outputs": [],
      "source": [
        "# 1. Download the test.csv file and store it in a DataFrame named, myDF.\n",
        "\n",
        "import pandas as pd\n",
        "DF = pd.read_csv(\"/content/test.csv\")"
      ]
    },
    {
      "cell_type": "code",
      "source": [
        "# 2.\tShow the first three rows of the DF."
      ],
      "metadata": {
        "id": "wYK1SYbGkD8j"
      },
      "execution_count": null,
      "outputs": []
    },
    {
      "cell_type": "code",
      "source": [
        "# 3.\tDelete the ‘Model’ column from the DF temporarily."
      ],
      "metadata": {
        "id": "yRePKXVLkIV_"
      },
      "execution_count": null,
      "outputs": []
    },
    {
      "cell_type": "code",
      "source": [
        "# 4.\tDelete the ‘Model’ column permanently, using the assignment (Not inplace parameter). Is there any \n",
        "# output when you run the permanent deletion? So, how can you make sure it is deleted?"
      ],
      "metadata": {
        "id": "wo9BkTEFkI1W"
      },
      "execution_count": 4,
      "outputs": []
    },
    {
      "cell_type": "code",
      "source": [
        "# 5.\tNow, let’s delete rows 1, 3, and 5 permanently, using inplace. Then show the first 4 Rows of myDF."
      ],
      "metadata": {
        "id": "A4y3YefNkJKG"
      },
      "execution_count": 5,
      "outputs": []
    },
    {
      "cell_type": "code",
      "source": [
        "# 6.\tCalculate the mean of ‘Range’ column."
      ],
      "metadata": {
        "id": "XKNrI4EakJd7"
      },
      "execution_count": 6,
      "outputs": []
    },
    {
      "cell_type": "code",
      "source": [
        "# 7.\tHow many ‘F’ do we have in the ‘Type’ column? Replace them permanently with ‘AAA’ and show the first 5 rows."
      ],
      "metadata": {
        "id": "I7uxPDAikJuN"
      },
      "execution_count": 7,
      "outputs": []
    },
    {
      "cell_type": "code",
      "source": [
        "# 8.\tGet rid of the [, $ and ] from the ‘Cost’ column permanently and display the first 5 rows. What is the type of ‘Cost’ column after this?"
      ],
      "metadata": {
        "id": "J5VUmkzHkJ7K"
      },
      "execution_count": 8,
      "outputs": []
    },
    {
      "cell_type": "code",
      "source": [
        "# 9.\tChange the ‘Cost’ column data type to integer and display the result."
      ],
      "metadata": {
        "id": "v816vcG2kKJh"
      },
      "execution_count": 9,
      "outputs": []
    },
    {
      "cell_type": "code",
      "source": [
        "# 10.\tCalculate the average of ‘Cost’ column. Then, calculate the average of ‘Cost’ for each ‘Continent’."
      ],
      "metadata": {
        "id": "UO4_P91rkKXI"
      },
      "execution_count": 10,
      "outputs": []
    },
    {
      "cell_type": "code",
      "source": [
        "# 11.\tCalculate the min, max and standard deviation of the ‘Cost’ column, group by each ‘Continent’, all in one command."
      ],
      "metadata": {
        "id": "o-hvWswakKl0"
      },
      "execution_count": 11,
      "outputs": []
    },
    {
      "cell_type": "code",
      "source": [
        "# 12.\tCalculate the min, max and standard deviation of all numerical columns, group by each ‘Continent’, all in one command."
      ],
      "metadata": {
        "id": "H3XIgdi8kVvb"
      },
      "execution_count": 12,
      "outputs": []
    },
    {
      "cell_type": "code",
      "source": [
        "# 13.\tIllustrate the mean of all numerical columns, group by the ‘Continent’, using a ‘bar’ chart."
      ],
      "metadata": {
        "id": "4-joS3B8kWEq"
      },
      "execution_count": 13,
      "outputs": []
    },
    {
      "cell_type": "code",
      "source": [
        "# 14.\tCount the number of each continent in the ‘Continent’ column. "
      ],
      "metadata": {
        "id": "qsaoV2avkWaY"
      },
      "execution_count": 14,
      "outputs": []
    },
    {
      "cell_type": "code",
      "source": [
        "# 15.\tShow the percentage of each continent in the ‘Continent’ column. "
      ],
      "metadata": {
        "id": "vK-COcB8kWpr"
      },
      "execution_count": 15,
      "outputs": []
    },
    {
      "cell_type": "code",
      "source": [
        "# 16.\tShow the unique values that we have in the ‘Continent’ column. Then show the number of unique values that we have in the ‘Continent’ column."
      ],
      "metadata": {
        "id": "x2j_UZwqkW4r"
      },
      "execution_count": 16,
      "outputs": []
    },
    {
      "cell_type": "code",
      "source": [
        "# 17.\tUse the value_count method for the ‘Cost’ column and describe the output as a comment in the next cell, using the # for the comment."
      ],
      "metadata": {
        "id": "U7EcrF36kXF-"
      },
      "execution_count": 17,
      "outputs": []
    },
    {
      "cell_type": "code",
      "source": [
        "# 18.\tPlot a histogram for the ‘Cost’ column. "
      ],
      "metadata": {
        "id": "MeoN-XTBkXTG"
      },
      "execution_count": 18,
      "outputs": []
    },
    {
      "cell_type": "code",
      "source": [
        "# 19.\tBonus question: Try to change the number of bins to 50 to show the result more accurately."
      ],
      "metadata": {
        "id": "1iJIA2CgkXgD"
      },
      "execution_count": 19,
      "outputs": []
    },
    {
      "cell_type": "code",
      "source": [
        "# 20.\tHow many missing values do we have in the ‘Zip Code’ column? How many missing values in the ‘Type’ column? \n",
        "# Provide a brief summary of null values for the entire Data Frame."
      ],
      "metadata": {
        "id": "3-7cOmbskXum"
      },
      "execution_count": 33,
      "outputs": []
    },
    {
      "cell_type": "code",
      "source": [
        "# 21.\tIf we drop all the rows that have ‘any’ missing value, how many rows will remain in myDF?"
      ],
      "metadata": {
        "id": "PXe4MW-EkYyG"
      },
      "execution_count": 22,
      "outputs": []
    },
    {
      "cell_type": "code",
      "source": [
        "# 22.\tShow the statistics for the ‘Type’ column using the value_count method, including the NaN values in the list. How many missing values do we have?"
      ],
      "metadata": {
        "id": "R9xxmuYekZEP"
      },
      "execution_count": 23,
      "outputs": []
    },
    {
      "cell_type": "code",
      "source": [
        "# 23.\tReplace the ‘Type’ column missing values with ‘XXX’ and show the result again."
      ],
      "metadata": {
        "id": "_5Z0ll7XkZUA"
      },
      "execution_count": 24,
      "outputs": []
    },
    {
      "cell_type": "code",
      "source": [
        "# 24.\tDrop the rows that have any missing value permanently and show the number of rows after running the drop command."
      ],
      "metadata": {
        "id": "DqVVdMNLkZlf"
      },
      "execution_count": 25,
      "outputs": []
    },
    {
      "cell_type": "code",
      "source": [
        "# 25.\tSet the ‘ID’ column as the new index and delete the index name. Then show the first 5 rows of the DF. \n",
        "#Show the value of the cell that its ID is 70 and its column header is ‘Value’."
      ],
      "metadata": {
        "id": "ubsxNXUDkZ1S"
      },
      "execution_count": 26,
      "outputs": []
    },
    {
      "cell_type": "code",
      "source": [
        "# 26.\tShow the index, columns and the shape of the current DF. Bring back the ID column to the DF and reset the index. \n",
        "# Again, show the index, columns and the shape of the current DF."
      ],
      "metadata": {
        "id": "WBddhhbnkaG9"
      },
      "execution_count": 27,
      "outputs": []
    },
    {
      "cell_type": "code",
      "source": [
        "# 27.\tUse the describe method to see the statistics of myDF and fetch the value of the first row and the third column of the result."
      ],
      "metadata": {
        "id": "gr5lL1t8kaY6"
      },
      "execution_count": 28,
      "outputs": []
    },
    {
      "cell_type": "code",
      "source": [
        "# 28.\tSort the value_counts() of the ‘Continent’ column of the DF. \n",
        "# Then, sort the value_counts() of the ‘Continent’ column, based on the alphabetic order of the continents."
      ],
      "metadata": {
        "id": "WJdQ-vCQkaqQ"
      },
      "execution_count": 29,
      "outputs": []
    },
    {
      "cell_type": "code",
      "source": [
        "# 29.\tShow all the columns of the following rows in one command. [1,3,5,7] and show the first 7 rows of the following columns: ‘Type’ and ‘Continent’"
      ],
      "metadata": {
        "id": "i7JALe73ka4U"
      },
      "execution_count": 30,
      "outputs": []
    },
    {
      "cell_type": "code",
      "source": [
        "# 30.\tShow the ‘Value’ of the ‘Type’ that are equal to ’XXX’."
      ],
      "metadata": {
        "id": "l1l2HJfolhKp"
      },
      "execution_count": null,
      "outputs": []
    }
  ]
}