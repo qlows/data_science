{
  "nbformat": 4,
  "nbformat_minor": 0,
  "metadata": {
    "colab": {
      "provenance": [],
      "collapsed_sections": []
    },
    "kernelspec": {
      "name": "python3",
      "display_name": "Python 3"
    },
    "language_info": {
      "name": "python"
    }
  },
  "cells": [
    {
      "cell_type": "markdown",
      "source": [
        "# Umit Kilinc\n",
        "# Assignment 01\n",
        "# Student ID (Last 4 Digits): 2721"
      ],
      "metadata": {
        "id": "y_31ftOyWDcb"
      }
    },
    {
      "cell_type": "code",
      "source": [
        "import pandas as pd \n",
        "import numpy as np\n",
        "# Import the csv file\n",
        "bio_data = pd.read_csv(\"/content/biostats.csv\")"
      ],
      "metadata": {
        "id": "_gO8vhfSWcXv"
      },
      "execution_count": 42,
      "outputs": []
    },
    {
      "cell_type": "code",
      "source": [
        "# Fetch the age column as an array and print it\n",
        "age = np.array(bio_data[\"Age\"])\n",
        "age"
      ],
      "metadata": {
        "colab": {
          "base_uri": "https://localhost:8080/"
        },
        "id": "36XYjCXc4UH6",
        "outputId": "57dbb291-2311-4449-9235-b825d3694b12"
      },
      "execution_count": 43,
      "outputs": [
        {
          "output_type": "execute_result",
          "data": {
            "text/plain": [
              "array([41, 42, 32, 39, 30, 33, 26, 30, 53, 32, 47, 34, 23, 36, 38, 31, 29,\n",
              "       28])"
            ]
          },
          "metadata": {},
          "execution_count": 43
        }
      ]
    },
    {
      "cell_type": "code",
      "source": [
        "# Calculate the average, standard deviation, maximum, and minimum of the array and print it\n",
        "print(\"Average age is: \", age.mean())\n",
        "print(\"Standard deviation is: \", age.std())\n",
        "print(\"Maximum age is: \", age.max())\n",
        "print(\"Minimum age is: \", age.min())"
      ],
      "metadata": {
        "colab": {
          "base_uri": "https://localhost:8080/"
        },
        "id": "PpzmIj514jv8",
        "outputId": "7332e8d5-84c1-4549-d0cd-39fc5bd50944"
      },
      "execution_count": 44,
      "outputs": [
        {
          "output_type": "stream",
          "name": "stdout",
          "text": [
            "Average age is:  34.666666666666664\n",
            "Standard deviation is:  7.363574011458175\n",
            "Maximum age is:  53\n",
            "Minimum age is:  23\n"
          ]
        }
      ]
    },
    {
      "cell_type": "code",
      "source": [
        "# Find the 30th percentile, median, and 70th percentile of the age column\n",
        "print(\"30th percentile: \", np.percentile(age, 30))\n",
        "print(\"Median: \", np.median(age))\n",
        "print(\"70th percentile: \", np.percentile(age, 70))"
      ],
      "metadata": {
        "colab": {
          "base_uri": "https://localhost:8080/"
        },
        "id": "_00ucNLg5W4d",
        "outputId": "bf5e65a5-5cbb-4123-c0a3-77e34e8f0f05"
      },
      "execution_count": 45,
      "outputs": [
        {
          "output_type": "stream",
          "name": "stdout",
          "text": [
            "30th percentile:  30.1\n",
            "Median:  32.5\n",
            "70th percentile:  37.8\n"
          ]
        }
      ]
    },
    {
      "cell_type": "code",
      "source": [
        "# Import matplotlib and draw a histogram chart for the age column\n",
        "%matplotlib inline\n",
        "import matplotlib.pyplot as plt\n",
        "import seaborn as sns\n",
        "sns.set()"
      ],
      "metadata": {
        "id": "vCuWgt-46FtN"
      },
      "execution_count": 46,
      "outputs": []
    },
    {
      "cell_type": "code",
      "source": [
        "plt.hist(age)\n",
        "plt.title(\"Age Distribution - By Umit Kilinc\")\n",
        "plt.xlabel(\"Age\")\n",
        "plt.ylabel(\"Number\");"
      ],
      "metadata": {
        "colab": {
          "base_uri": "https://localhost:8080/",
          "height": 301
        },
        "id": "CA6ozPT-61NN",
        "outputId": "b0654b7b-58ef-47ac-ed7a-01375a39874b"
      },
      "execution_count": 47,
      "outputs": [
        {
          "output_type": "display_data",
          "data": {
            "text/plain": [
              "<Figure size 432x288 with 1 Axes>"
            ],
            "image/png": "[encoded data removed]"
          },
          "metadata": {}
        }
      ]
    },
    {
      "cell_type": "code",
      "source": [],
      "metadata": {
        "id": "jf58vxit7NOM"
      },
      "execution_count": null,
      "outputs": []
    }
  ]
}