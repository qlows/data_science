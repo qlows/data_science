{
  "nbformat": 4,
  "nbformat_minor": 0,
  "metadata": {
    "colab": {
      "provenance": [],
      "collapsed_sections": []
    },
    "kernelspec": {
      "name": "python3",
      "display_name": "Python 3"
    },
    "language_info": {
      "name": "python"
    }
  },
  "cells": [
    {
      "cell_type": "markdown",
      "source": [
        "\n",
        "#Umit Kilinc\n",
        "#101232721"
      ],
      "metadata": {
        "id": "yVBg6LcgASM8"
      }
    },
    {
      "cell_type": "code",
      "source": [
        "from sklearn import tree\n",
        "features = [[140, 1], [130, 1], [150, 0], [170,0]]\n",
        "labels = [0, 0, 1, 1]\n",
        "clf = tree.DecisionTreeClassifier()\n",
        "clf = clf.fit(features, labels)\n",
        "print(clf.predict([[160, 0]]))"
      ],
      "metadata": {
        "colab": {
          "base_uri": "https://localhost:8080/"
        },
        "id": "FV8SZILe1EWD",
        "outputId": "5cba8fa9-d178-4232-a707-994d4760ca6a"
      },
      "execution_count": 2,
      "outputs": [
        {
          "output_type": "stream",
          "name": "stdout",
          "text": [
            "[1]\n"
          ]
        }
      ]
    },
    {
      "cell_type": "code",
      "source": [
        "import pandas as pd\n"
      ],
      "metadata": {
        "id": "OV28vFwY1nuo"
      },
      "execution_count": 3,
      "outputs": []
    },
    {
      "cell_type": "code",
      "source": [
        "df = pd.read_csv(\"/content/iris.csv\")"
      ],
      "metadata": {
        "id": "NK9Cv3Bz4Fj4"
      },
      "execution_count": 12,
      "outputs": []
    },
    {
      "cell_type": "code",
      "source": [
        "df[\"petal.length\"]"
      ],
      "metadata": {
        "colab": {
          "base_uri": "https://localhost:8080/"
        },
        "id": "EvQyRMt34f2G",
        "outputId": "644b39e0-e598-4742-fb5b-36c420a6696c"
      },
      "execution_count": 8,
      "outputs": [
        {
          "output_type": "execute_result",
          "data": {
            "text/plain": [
              "0      1.4\n",
              "1      1.4\n",
              "2      1.3\n",
              "3      1.5\n",
              "4      1.4\n",
              "      ... \n",
              "145    5.2\n",
              "146    5.0\n",
              "147    5.2\n",
              "148    5.4\n",
              "149    5.1\n",
              "Name: petal.length, Length: 150, dtype: float64"
            ]
          },
          "metadata": {},
          "execution_count": 8
        }
      ]
    },
    {
      "cell_type": "code",
      "source": [
        "from sklearn.datasets import load_iris"
      ],
      "metadata": {
        "id": "9R-V1tJT4mqM"
      },
      "execution_count": 13,
      "outputs": []
    },
    {
      "cell_type": "code",
      "source": [
        "iris = load_iris()"
      ],
      "metadata": {
        "id": "IgEMX8aX5pBc"
      },
      "execution_count": 14,
      "outputs": []
    },
    {
      "cell_type": "code",
      "source": [
        "iris"
      ],
      "metadata": {
        "id": "a6OSmbft5rF-"
      },
      "execution_count": null,
      "outputs": []
    },
    {
      "cell_type": "code",
      "source": [
        "print(iris.feature_names)\n",
        "print(iris.target_names)\n",
        "print(iris.data[0])\n",
        "print(iris.target[1])"
      ],
      "metadata": {
        "colab": {
          "base_uri": "https://localhost:8080/"
        },
        "id": "J-5j7YaS6EWx",
        "outputId": "7ecfee07-57fa-4051-a6f7-7fab81c83c52"
      },
      "execution_count": 24,
      "outputs": [
        {
          "output_type": "stream",
          "name": "stdout",
          "text": [
            "['sepal length (cm)', 'sepal width (cm)', 'petal length (cm)', 'petal width (cm)']\n",
            "['setosa' 'versicolor' 'virginica']\n",
            "[5.1 3.5 1.4 0.2]\n",
            "0\n"
          ]
        }
      ]
    },
    {
      "cell_type": "code",
      "source": [
        "for i in range(len(iris.target)):\n",
        "  print(\"Example %d: label %s, features %s\" %(i, iris.target[i], iris.data[i]))"
      ],
      "metadata": {
        "colab": {
          "base_uri": "https://localhost:8080/"
        },
        "id": "6RxbIW_y7AmW",
        "outputId": "193b1b59-cab6-494a-e3e6-3ce29ea16c38"
      },
      "execution_count": 25,
      "outputs": [
        {
          "output_type": "stream",
          "name": "stdout",
          "text": [
            "Example 0: label 0, features [5.1 3.5 1.4 0.2]\n",
            "Example 1: label 0, features [4.9 3.  1.4 0.2]\n",
            "Example 2: label 0, features [4.7 3.2 1.3 0.2]\n",
            "Example 3: label 0, features [4.6 3.1 1.5 0.2]\n",
            "Example 4: label 0, features [5.  3.6 1.4 0.2]\n",
            "Example 5: label 0, features [5.4 3.9 1.7 0.4]\n",
            "Example 6: label 0, features [4.6 3.4 1.4 0.3]\n",
            "Example 7: label 0, features [5.  3.4 1.5 0.2]\n",
            "Example 8: label 0, features [4.4 2.9 1.4 0.2]\n",
            "Example 9: label 0, features [4.9 3.1 1.5 0.1]\n",
            "Example 10: label 0, features [5.4 3.7 1.5 0.2]\n",
            "Example 11: label 0, features [4.8 3.4 1.6 0.2]\n",
            "Example 12: label 0, features [4.8 3.  1.4 0.1]\n",
            "Example 13: label 0, features [4.3 3.  1.1 0.1]\n",
            "Example 14: label 0, features [5.8 4.  1.2 0.2]\n",
            "Example 15: label 0, features [5.7 4.4 1.5 0.4]\n",
            "Example 16: label 0, features [5.4 3.9 1.3 0.4]\n",
            "Example 17: label 0, features [5.1 3.5 1.4 0.3]\n",
            "Example 18: label 0, features [5.7 3.8 1.7 0.3]\n",
            "Example 19: label 0, features [5.1 3.8 1.5 0.3]\n",
            "Example 20: label 0, features [5.4 3.4 1.7 0.2]\n",
            "Example 21: label 0, features [5.1 3.7 1.5 0.4]\n",
            "Example 22: label 0, features [4.6 3.6 1.  0.2]\n",
            "Example 23: label 0, features [5.1 3.3 1.7 0.5]\n",
            "Example 24: label 0, features [4.8 3.4 1.9 0.2]\n",
            "Example 25: label 0, features [5.  3.  1.6 0.2]\n",
            "Example 26: label 0, features [5.  3.4 1.6 0.4]\n",
            "Example 27: label 0, features [5.2 3.5 1.5 0.2]\n",
            "Example 28: label 0, features [5.2 3.4 1.4 0.2]\n",
            "Example 29: label 0, features [4.7 3.2 1.6 0.2]\n",
            "Example 30: label 0, features [4.8 3.1 1.6 0.2]\n",
            "Example 31: label 0, features [5.4 3.4 1.5 0.4]\n",
            "Example 32: label 0, features [5.2 4.1 1.5 0.1]\n",
            "Example 33: label 0, features [5.5 4.2 1.4 0.2]\n",
            "Example 34: label 0, features [4.9 3.1 1.5 0.2]\n",
            "Example 35: label 0, features [5.  3.2 1.2 0.2]\n",
            "Example 36: label 0, features [5.5 3.5 1.3 0.2]\n",
            "Example 37: label 0, features [4.9 3.6 1.4 0.1]\n",
            "Example 38: label 0, features [4.4 3.  1.3 0.2]\n",
            "Example 39: label 0, features [5.1 3.4 1.5 0.2]\n",
            "Example 40: label 0, features [5.  3.5 1.3 0.3]\n",
            "Example 41: label 0, features [4.5 2.3 1.3 0.3]\n",
            "Example 42: label 0, features [4.4 3.2 1.3 0.2]\n",
            "Example 43: label 0, features [5.  3.5 1.6 0.6]\n",
            "Example 44: label 0, features [5.1 3.8 1.9 0.4]\n",
            "Example 45: label 0, features [4.8 3.  1.4 0.3]\n",
            "Example 46: label 0, features [5.1 3.8 1.6 0.2]\n",
            "Example 47: label 0, features [4.6 3.2 1.4 0.2]\n",
            "Example 48: label 0, features [5.3 3.7 1.5 0.2]\n",
            "Example 49: label 0, features [5.  3.3 1.4 0.2]\n",
            "Example 50: label 1, features [7.  3.2 4.7 1.4]\n",
            "Example 51: label 1, features [6.4 3.2 4.5 1.5]\n",
            "Example 52: label 1, features [6.9 3.1 4.9 1.5]\n",
            "Example 53: label 1, features [5.5 2.3 4.  1.3]\n",
            "Example 54: label 1, features [6.5 2.8 4.6 1.5]\n",
            "Example 55: label 1, features [5.7 2.8 4.5 1.3]\n",
            "Example 56: label 1, features [6.3 3.3 4.7 1.6]\n",
            "Example 57: label 1, features [4.9 2.4 3.3 1. ]\n",
            "Example 58: label 1, features [6.6 2.9 4.6 1.3]\n",
            "Example 59: label 1, features [5.2 2.7 3.9 1.4]\n",
            "Example 60: label 1, features [5.  2.  3.5 1. ]\n",
            "Example 61: label 1, features [5.9 3.  4.2 1.5]\n",
            "Example 62: label 1, features [6.  2.2 4.  1. ]\n",
            "Example 63: label 1, features [6.1 2.9 4.7 1.4]\n",
            "Example 64: label 1, features [5.6 2.9 3.6 1.3]\n",
            "Example 65: label 1, features [6.7 3.1 4.4 1.4]\n",
            "Example 66: label 1, features [5.6 3.  4.5 1.5]\n",
            "Example 67: label 1, features [5.8 2.7 4.1 1. ]\n",
            "Example 68: label 1, features [6.2 2.2 4.5 1.5]\n",
            "Example 69: label 1, features [5.6 2.5 3.9 1.1]\n",
            "Example 70: label 1, features [5.9 3.2 4.8 1.8]\n",
            "Example 71: label 1, features [6.1 2.8 4.  1.3]\n",
            "Example 72: label 1, features [6.3 2.5 4.9 1.5]\n",
            "Example 73: label 1, features [6.1 2.8 4.7 1.2]\n",
            "Example 74: label 1, features [6.4 2.9 4.3 1.3]\n",
            "Example 75: label 1, features [6.6 3.  4.4 1.4]\n",
            "Example 76: label 1, features [6.8 2.8 4.8 1.4]\n",
            "Example 77: label 1, features [6.7 3.  5.  1.7]\n",
            "Example 78: label 1, features [6.  2.9 4.5 1.5]\n",
            "Example 79: label 1, features [5.7 2.6 3.5 1. ]\n",
            "Example 80: label 1, features [5.5 2.4 3.8 1.1]\n",
            "Example 81: label 1, features [5.5 2.4 3.7 1. ]\n",
            "Example 82: label 1, features [5.8 2.7 3.9 1.2]\n",
            "Example 83: label 1, features [6.  2.7 5.1 1.6]\n",
            "Example 84: label 1, features [5.4 3.  4.5 1.5]\n",
            "Example 85: label 1, features [6.  3.4 4.5 1.6]\n",
            "Example 86: label 1, features [6.7 3.1 4.7 1.5]\n",
            "Example 87: label 1, features [6.3 2.3 4.4 1.3]\n",
            "Example 88: label 1, features [5.6 3.  4.1 1.3]\n",
            "Example 89: label 1, features [5.5 2.5 4.  1.3]\n",
            "Example 90: label 1, features [5.5 2.6 4.4 1.2]\n",
            "Example 91: label 1, features [6.1 3.  4.6 1.4]\n",
            "Example 92: label 1, features [5.8 2.6 4.  1.2]\n",
            "Example 93: label 1, features [5.  2.3 3.3 1. ]\n",
            "Example 94: label 1, features [5.6 2.7 4.2 1.3]\n",
            "Example 95: label 1, features [5.7 3.  4.2 1.2]\n",
            "Example 96: label 1, features [5.7 2.9 4.2 1.3]\n",
            "Example 97: label 1, features [6.2 2.9 4.3 1.3]\n",
            "Example 98: label 1, features [5.1 2.5 3.  1.1]\n",
            "Example 99: label 1, features [5.7 2.8 4.1 1.3]\n",
            "Example 100: label 2, features [6.3 3.3 6.  2.5]\n",
            "Example 101: label 2, features [5.8 2.7 5.1 1.9]\n",
            "Example 102: label 2, features [7.1 3.  5.9 2.1]\n",
            "Example 103: label 2, features [6.3 2.9 5.6 1.8]\n",
            "Example 104: label 2, features [6.5 3.  5.8 2.2]\n",
            "Example 105: label 2, features [7.6 3.  6.6 2.1]\n",
            "Example 106: label 2, features [4.9 2.5 4.5 1.7]\n",
            "Example 107: label 2, features [7.3 2.9 6.3 1.8]\n",
            "Example 108: label 2, features [6.7 2.5 5.8 1.8]\n",
            "Example 109: label 2, features [7.2 3.6 6.1 2.5]\n",
            "Example 110: label 2, features [6.5 3.2 5.1 2. ]\n",
            "Example 111: label 2, features [6.4 2.7 5.3 1.9]\n",
            "Example 112: label 2, features [6.8 3.  5.5 2.1]\n",
            "Example 113: label 2, features [5.7 2.5 5.  2. ]\n",
            "Example 114: label 2, features [5.8 2.8 5.1 2.4]\n",
            "Example 115: label 2, features [6.4 3.2 5.3 2.3]\n",
            "Example 116: label 2, features [6.5 3.  5.5 1.8]\n",
            "Example 117: label 2, features [7.7 3.8 6.7 2.2]\n",
            "Example 118: label 2, features [7.7 2.6 6.9 2.3]\n",
            "Example 119: label 2, features [6.  2.2 5.  1.5]\n",
            "Example 120: label 2, features [6.9 3.2 5.7 2.3]\n",
            "Example 121: label 2, features [5.6 2.8 4.9 2. ]\n",
            "Example 122: label 2, features [7.7 2.8 6.7 2. ]\n",
            "Example 123: label 2, features [6.3 2.7 4.9 1.8]\n",
            "Example 124: label 2, features [6.7 3.3 5.7 2.1]\n",
            "Example 125: label 2, features [7.2 3.2 6.  1.8]\n",
            "Example 126: label 2, features [6.2 2.8 4.8 1.8]\n",
            "Example 127: label 2, features [6.1 3.  4.9 1.8]\n",
            "Example 128: label 2, features [6.4 2.8 5.6 2.1]\n",
            "Example 129: label 2, features [7.2 3.  5.8 1.6]\n",
            "Example 130: label 2, features [7.4 2.8 6.1 1.9]\n",
            "Example 131: label 2, features [7.9 3.8 6.4 2. ]\n",
            "Example 132: label 2, features [6.4 2.8 5.6 2.2]\n",
            "Example 133: label 2, features [6.3 2.8 5.1 1.5]\n",
            "Example 134: label 2, features [6.1 2.6 5.6 1.4]\n",
            "Example 135: label 2, features [7.7 3.  6.1 2.3]\n",
            "Example 136: label 2, features [6.3 3.4 5.6 2.4]\n",
            "Example 137: label 2, features [6.4 3.1 5.5 1.8]\n",
            "Example 138: label 2, features [6.  3.  4.8 1.8]\n",
            "Example 139: label 2, features [6.9 3.1 5.4 2.1]\n",
            "Example 140: label 2, features [6.7 3.1 5.6 2.4]\n",
            "Example 141: label 2, features [6.9 3.1 5.1 2.3]\n",
            "Example 142: label 2, features [5.8 2.7 5.1 1.9]\n",
            "Example 143: label 2, features [6.8 3.2 5.9 2.3]\n",
            "Example 144: label 2, features [6.7 3.3 5.7 2.5]\n",
            "Example 145: label 2, features [6.7 3.  5.2 2.3]\n",
            "Example 146: label 2, features [6.3 2.5 5.  1.9]\n",
            "Example 147: label 2, features [6.5 3.  5.2 2. ]\n",
            "Example 148: label 2, features [6.2 3.4 5.4 2.3]\n",
            "Example 149: label 2, features [5.9 3.  5.1 1.8]\n"
          ]
        }
      ]
    },
    {
      "cell_type": "code",
      "source": [
        "iris = load_iris()\n",
        "test_idx = [0, 50, 100]"
      ],
      "metadata": {
        "id": "RbPEZGfe8vhE"
      },
      "execution_count": 28,
      "outputs": []
    },
    {
      "cell_type": "code",
      "source": [
        "iris.data[test_idx]"
      ],
      "metadata": {
        "colab": {
          "base_uri": "https://localhost:8080/"
        },
        "id": "Druxr6sN9txM",
        "outputId": "22a2e9d7-0752-48ad-e6a5-c09e5ad3ebcc"
      },
      "execution_count": 29,
      "outputs": [
        {
          "output_type": "execute_result",
          "data": {
            "text/plain": [
              "array([[5.1, 3.5, 1.4, 0.2],\n",
              "       [7. , 3.2, 4.7, 1.4],\n",
              "       [6.3, 3.3, 6. , 2.5]])"
            ]
          },
          "metadata": {},
          "execution_count": 29
        }
      ]
    },
    {
      "cell_type": "code",
      "source": [
        "iris.target[test_idx]"
      ],
      "metadata": {
        "colab": {
          "base_uri": "https://localhost:8080/"
        },
        "id": "WrT2AcAy9wuA",
        "outputId": "38f6b58b-8ce5-4d63-a82e-3186a4ae35ac"
      },
      "execution_count": 30,
      "outputs": [
        {
          "output_type": "execute_result",
          "data": {
            "text/plain": [
              "array([0, 1, 2])"
            ]
          },
          "metadata": {},
          "execution_count": 30
        }
      ]
    },
    {
      "cell_type": "code",
      "source": [
        "import numpy as np\n"
      ],
      "metadata": {
        "id": "R8c-IKSY97rc"
      },
      "execution_count": 31,
      "outputs": []
    },
    {
      "cell_type": "code",
      "source": [
        "#training data\n",
        "train_target = np.delete(iris.target, test_idx)\n",
        "train_data = np.delete(iris.data, test_idx, axis = 0)"
      ],
      "metadata": {
        "id": "nAIUYAI2-Yp4"
      },
      "execution_count": 32,
      "outputs": []
    },
    {
      "cell_type": "code",
      "source": [
        "# testing data\n",
        "test_target = iris.target[test_idx]\n",
        "test_data = iris.data[test_idx]"
      ],
      "metadata": {
        "id": "-_qPvXGG-rd0"
      },
      "execution_count": 33,
      "outputs": []
    },
    {
      "cell_type": "code",
      "source": [
        "from sklearn import tree"
      ],
      "metadata": {
        "id": "1HErczX_-4jw"
      },
      "execution_count": 34,
      "outputs": []
    },
    {
      "cell_type": "code",
      "source": [
        "clf = tree.DecisionTreeClassifier()\n",
        "clf.fit(train_data, train_target)\n",
        "print(test_target)"
      ],
      "metadata": {
        "colab": {
          "base_uri": "https://localhost:8080/"
        },
        "id": "dOWHHqo6-7Y5",
        "outputId": "1e6c9735-9670-49f5-a0d7-ee37dde63ee7"
      },
      "execution_count": 37,
      "outputs": [
        {
          "output_type": "stream",
          "name": "stdout",
          "text": [
            "[0 1 2]\n"
          ]
        }
      ]
    },
    {
      "cell_type": "code",
      "source": [
        "print(clf.predict(test_data))"
      ],
      "metadata": {
        "colab": {
          "base_uri": "https://localhost:8080/"
        },
        "id": "9GnP6338_ywo",
        "outputId": "49b7d2fd-199a-4d15-fd83-e309ad71dc41"
      },
      "execution_count": 38,
      "outputs": [
        {
          "output_type": "stream",
          "name": "stdout",
          "text": [
            "[0 1 2]\n"
          ]
        }
      ]
    },
    {
      "cell_type": "code",
      "source": [
        "import pydotplus\n",
        "dot_data = tree.export_graphviz(clf, out_file = None)\n",
        "graph = pydotplus.graph_from_dot_data(dot_data)\n",
        "graph.write_pdf(\"iris01.pdf\")\n"
      ],
      "metadata": {
        "colab": {
          "base_uri": "https://localhost:8080/"
        },
        "id": "EFBvnYVgAPtx",
        "outputId": "4c72c1dc-c9e1-4494-954f-fd0ecd34038d"
      },
      "execution_count": 40,
      "outputs": [
        {
          "output_type": "execute_result",
          "data": {
            "text/plain": [
              "True"
            ]
          },
          "metadata": {},
          "execution_count": 40
        }
      ]
    },
    {
      "cell_type": "code",
      "source": [
        "import numpy as np \n",
        "from sklearn.datasets import load_iris \n",
        "from sklearn import tree \n",
        "iris = load_iris() \n",
        "test_idx = [0,50,100] \n",
        "#training data \n",
        "train_target = np.delete(iris.target, test_idx) \n",
        "train_data = np.delete(iris.data, test_idx, axis=0) \n",
        "#testing data \n",
        "test_target = iris.target[test_idx] \n",
        "test_data = iris.data[test_idx] \n",
        "clf = tree.DecisionTreeClassifier() \n",
        "clf.fit(train_data, train_target) \n",
        "print (test_target) \n",
        "print (clf.predict(test_data)) \n",
        "import pydotplus \n",
        "dot_data = tree.export_graphviz(clf, out_file=None, feature_names=iris.feature_names, class_names=iris.target_names, filled=True, rounded=True, special_characters=True) \n",
        "graph = pydotplus.graph_from_dot_data(dot_data) \n",
        "graph.write_pdf(\"iris02.pdf\")"
      ],
      "metadata": {
        "colab": {
          "base_uri": "https://localhost:8080/"
        },
        "id": "tRCuGXmoF0w9",
        "outputId": "f9a05668-a699-41d0-9c40-c71a29e9a20a"
      },
      "execution_count": 41,
      "outputs": [
        {
          "output_type": "stream",
          "name": "stdout",
          "text": [
            "[0 1 2]\n",
            "[0 1 2]\n"
          ]
        },
        {
          "output_type": "execute_result",
          "data": {
            "text/plain": [
              "True"
            ]
          },
          "metadata": {},
          "execution_count": 41
        }
      ]
    },
    {
      "cell_type": "code",
      "source": [
        "import numpy as np\n",
        "import matplotlib.pyplot as plt\n",
        "\n",
        "greyhounds = 500\n",
        "labs = 500\n",
        "\n",
        "grey_height = 28 + 4 * np.random.randn(greyhounds)\n",
        "lab_height = 24 + 4 * np.random.randn(labs)"
      ],
      "metadata": {
        "id": "tt4stlsaJuNm"
      },
      "execution_count": 43,
      "outputs": []
    },
    {
      "cell_type": "code",
      "source": [
        "plt.hist([grey_height, lab_height], stacked=True, color=['r', 'b'])\n",
        "plt.show()"
      ],
      "metadata": {
        "colab": {
          "base_uri": "https://localhost:8080/",
          "height": 265
        },
        "id": "asCK45ZBKrsZ",
        "outputId": "1e2035b7-9e50-4111-fa17-875139800aa8"
      },
      "execution_count": 44,
      "outputs": [
        {
          "output_type": "display_data",
          "data": {
            "text/plain": [
              "<Figure size 432x288 with 1 Axes>"
            ],
            "image/png": "[encoded data removed]"
          },
          "metadata": {
            "needs_background": "light"
          }
        }
      ]
    },
    {
      "cell_type": "code",
      "source": [
        "grey_height[:5]"
      ],
      "metadata": {
        "colab": {
          "base_uri": "https://localhost:8080/"
        },
        "id": "YgeGhZcDKsG9",
        "outputId": "e4296354-edcc-4417-ce38-c6e3f942876e"
      },
      "execution_count": 46,
      "outputs": [
        {
          "output_type": "execute_result",
          "data": {
            "text/plain": [
              "array([26.14457701, 28.39601602, 31.03109988, 28.04649544, 32.9297177 ])"
            ]
          },
          "metadata": {},
          "execution_count": 46
        }
      ]
    },
    {
      "cell_type": "code",
      "source": [
        "np.mean(lab_height)"
      ],
      "metadata": {
        "colab": {
          "base_uri": "https://localhost:8080/"
        },
        "id": "BPqVttY-KuyF",
        "outputId": "3e913be5-da51-4606-926a-78a6e54cddb3"
      },
      "execution_count": 47,
      "outputs": [
        {
          "output_type": "execute_result",
          "data": {
            "text/plain": [
              "23.816554148507414"
            ]
          },
          "metadata": {},
          "execution_count": 47
        }
      ]
    },
    {
      "cell_type": "code",
      "source": [
        "np.mean(grey_height)"
      ],
      "metadata": {
        "colab": {
          "base_uri": "https://localhost:8080/"
        },
        "id": "_q0Y9S7bK4x9",
        "outputId": "29764935-1cf2-41d0-d908-193cbb3c02eb"
      },
      "execution_count": 48,
      "outputs": [
        {
          "output_type": "execute_result",
          "data": {
            "text/plain": [
              "27.77608379998294"
            ]
          },
          "metadata": {},
          "execution_count": 48
        }
      ]
    },
    {
      "cell_type": "code",
      "source": [],
      "metadata": {
        "id": "qWXDzUJDK7Cx"
      },
      "execution_count": 49,
      "outputs": []
    }
  ]
}