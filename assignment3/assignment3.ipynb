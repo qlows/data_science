{
  "nbformat": 4,
  "nbformat_minor": 0,
  "metadata": {
    "colab": {
      "provenance": []
    },
    "kernelspec": {
      "name": "python3",
      "display_name": "Python 3"
    },
    "language_info": {
      "name": "python"
    }
  },
  "cells": [
    {
      "cell_type": "markdown",
      "source": [
        "**Umit Kilinc** \n",
        "\n",
        "**101232721**"
      ],
      "metadata": {
        "id": "QAV66qFRPf_-"
      }
    },
    {
      "cell_type": "code",
      "execution_count": null,
      "metadata": {
        "id": "tknLENGKIxHX"
      },
      "outputs": [],
      "source": [
        "import pandas as pd"
      ]
    },
    {
      "cell_type": "code",
      "source": [
        "# 1.\tDownload the test.csv file and store it in a DataFrame named, myDF.\n",
        "DF = pd.read_csv(\"/content/test.csv\")"
      ],
      "metadata": {
        "id": "aU54AnvuJlSV"
      },
      "execution_count": null,
      "outputs": []
    },
    {
      "cell_type": "code",
      "source": [
        "# 2.\tShow the first five rows of the DF.\n",
        "DF.head()"
      ],
      "metadata": {
        "id": "MAwo4Vb4J6ip"
      },
      "execution_count": null,
      "outputs": []
    },
    {
      "cell_type": "code",
      "source": [
        "# 3.\tDoes the first row contain the column names? If not, please assign the following column names to them:\n",
        "# [ID, Range, Value, Machine Type, Zip code]\n",
        "\n",
        "DF_columns = [\"ID\", \"Range\", \"Value\", \"Machine Type\", \"Zip Code\"]"
      ],
      "metadata": {
        "id": "mnSbRCPeKAQR"
      },
      "execution_count": null,
      "outputs": []
    },
    {
      "cell_type": "code",
      "source": [
        "# 4.\tAdd your name and student number on top of your dataset in your local file and show your DF with your name and student number as part of the dataset.\n",
        "new_DF = [{\n",
        "    \"ID\": \"Umit Kilinc 101232721\",\n",
        "}]\n",
        "\n",
        "DF = DF.append(new_DF)\n",
        "DF"
      ],
      "metadata": {
        "id": "DMlQQZaBK8dP"
      },
      "execution_count": null,
      "outputs": []
    },
    {
      "cell_type": "code",
      "source": [
        "# 5.\tNow, use a method to skip the first row and show the DF as it was before adding your information.\n",
        "pd.read_csv(\"/content/test.csv\", skiprows=0)"
      ],
      "metadata": {
        "id": "h0QoVWXkMErn"
      },
      "execution_count": null,
      "outputs": []
    },
    {
      "cell_type": "code",
      "source": [
        "# 6.\tShow the type of your DF.\n",
        "DF.dtypes"
      ],
      "metadata": {
        "id": "S3IbVjCbOsQ0"
      },
      "execution_count": null,
      "outputs": []
    },
    {
      "cell_type": "code",
      "source": [
        "# 7.\tSelect the ‘Value’ column using two different commands. Which one is more object-oriented style?\n",
        "DF=pd.read_csv('/content/test.csv', header=None, names=DF_columns)\n",
        "DF.head()"
      ],
      "metadata": {
        "id": "lx8j8GpivIJ0"
      },
      "execution_count": null,
      "outputs": []
    },
    {
      "cell_type": "code",
      "source": [
        "# Alternative to Q7\n",
        "# Using loc[] to select columns. Enter the name of the column:\n",
        "#DF_value = DF.loc[:, [\"Value\"]]\n",
        "#DF_value\n",
        "\n",
        "# Using iloc[] to select columns. Enter the index of the column:\n",
        "#DF_value = DF.iloc[:, [2]]\n",
        "#DF_value\n",
        "\n",
        "# Alternative to Q9\n",
        "\n",
        "# Yes, we can apply both methods to fetch both \"Value\" and \"Zip Code\" column\n",
        "\n",
        "# Using loc[] to select multiple columns. Enter the name of the columns:\n",
        "#DF_multiple = DF.loc[:, [\"Value\", \"Zip Code\"]]\n",
        "#DF_multiple\n",
        "\n",
        "# Using iloc[] to select multiple columns. Enter the index of the columns:\n",
        "#DF_multiple = DF.iloc[:, [2, 4]]\n",
        "#DF_multiple"
      ],
      "metadata": {
        "id": "bX731ohPOwOK"
      },
      "execution_count": null,
      "outputs": []
    },
    {
      "cell_type": "code",
      "source": [
        "# 8.\tWhat is the type of this selected column?\n",
        "DF.dtypes"
      ],
      "metadata": {
        "id": "cZkXfOHVPGrS"
      },
      "execution_count": null,
      "outputs": []
    },
    {
      "cell_type": "code",
      "source": [
        "# 9.\tCan we apply both methods (mentioned in question 7) \n",
        "# for fetching the ‘Zip code’ column? Which other column has the same status? Why we cannot use both method for fetching its content? \n",
        "DF=pd.read_csv('/content/test.csv', header=None, names=DF_columns, skiprows=[1])\n",
        "DF.head()"
      ],
      "metadata": {
        "id": "5FcUC6jvvsIE"
      },
      "execution_count": null,
      "outputs": []
    },
    {
      "cell_type": "code",
      "source": [
        "# 10.\tCreate a new Series called ‘Brand’ by combining 'Machine Type' and 'Zip code' Series.\n",
        "DF[\"Brand\"] = DF[\"Machine Type\"] + DF['Zip Code']\n",
        "DF.head()"
      ],
      "metadata": {
        "id": "TJy0imP1qQ3X"
      },
      "execution_count": null,
      "outputs": []
    },
    {
      "cell_type": "code",
      "source": [
        "# 11.\tCreate a new Series called ‘Total’ by multiplying ‘Range’ and ‘Value’ Series.\n",
        "DF[\"Total\"] = DF[\"Range\"] * DF['Value']\n",
        "DF.head()"
      ],
      "metadata": {
        "id": "2Vm902kEtvxe"
      },
      "execution_count": null,
      "outputs": []
    },
    {
      "cell_type": "code",
      "source": [
        "# 12.\tUse the following commands:\n",
        "# a.\tmyDF.head()\n",
        "DF.head()"
      ],
      "metadata": {
        "id": "S4Nnjb_d0NSu"
      },
      "execution_count": null,
      "outputs": []
    },
    {
      "cell_type": "code",
      "source": [
        "# b.\tmyDF.describe()\n",
        "DF.describe()"
      ],
      "metadata": {
        "id": "L4EGffNz0lOq"
      },
      "execution_count": null,
      "outputs": []
    },
    {
      "cell_type": "code",
      "source": [
        "# c.\tmyDF.describe\n",
        "DF.describe"
      ],
      "metadata": {
        "id": "WtxT3Ul30rqG"
      },
      "execution_count": null,
      "outputs": []
    },
    {
      "cell_type": "code",
      "source": [
        "# d.\tmyDF.shape\n",
        "DF.shape"
      ],
      "metadata": {
        "id": "AYV0ycJ20uJA"
      },
      "execution_count": null,
      "outputs": []
    },
    {
      "cell_type": "code",
      "source": [
        "# e.\tmyDF.dtypes.\n",
        "DF.dtypes"
      ],
      "metadata": {
        "id": "n-4iy-YV0zDp"
      },
      "execution_count": null,
      "outputs": []
    },
    {
      "cell_type": "markdown",
      "source": [
        " Why some have parentheses and some don’t? What is the difference between b. and c.?\n",
        "\n",
        "In pandas actions require parantheses and attributes don't require paranthesis. \n",
        " The difference between b. and c. is that b. is an action. \n",
        " An action is a state of what you do. For instance, dog.sleep() or dog.bark(to_stranger).\n",
        " c. is an attribute. An attribute is a state of who you are. For instance, dog.breed or dog.color."
      ],
      "metadata": {
        "id": "yN5XyfZmVIlk"
      }
    },
    {
      "cell_type": "code",
      "source": [
        "# 13.\tHow can we use the describe() method to show the statistics for the object (not numerical) columns? \n",
        "\n",
        "# Describing all columns with object\n",
        "DF.describe(include=\"object\")"
      ],
      "metadata": {
        "id": "8rQwvni901w-"
      },
      "execution_count": null,
      "outputs": []
    },
    {
      "cell_type": "code",
      "source": [
        "# 14.\tRename the ‘ID’ to ‘My ID’ in the DF without replacing the ID Series name in the original DF. Show the unchanged DF by displaying the top 5 rows.\n",
        "DF.rename(columns = {\"ID\": \"My ID\"}, inplace= False)\n",
        "#DF.head()"
      ],
      "metadata": {
        "id": "ZFzi75uM24W-"
      },
      "execution_count": null,
      "outputs": []
    },
    {
      "cell_type": "code",
      "source": [
        "# 15.\tRename the ‘ID’ to ‘My ID’ inplace and show the changed column name using the head() method.\n",
        "DF.rename(columns = {\"ID\": \"My ID\"}, inplace= True)\n",
        "DF.head()"
      ],
      "metadata": {
        "id": "GpHyWDn_5dqc"
      },
      "execution_count": null,
      "outputs": []
    },
    {
      "cell_type": "code",
      "source": [
        "# 16.\tShow the DF columns.\n",
        "print(DF.columns.tolist())"
      ],
      "metadata": {
        "id": "0Pl7cCPp6mEp"
      },
      "execution_count": null,
      "outputs": []
    },
    {
      "cell_type": "code",
      "source": [
        "# 17.\tChange all the column names to ['id', 'range', 'value', 'machine type', 'zip code', 'brand', 'total'] and display the new column names.\n",
        "DF_new_columns = [\"id\", \"range\", \"value\", \"machine type\", \"zip code\", \"brand\", \"total\"]\n",
        "DF.columns = DF_new_columns\n",
        "DF.head()"
      ],
      "metadata": {
        "id": "kLzCBPm_6qmI"
      },
      "execution_count": null,
      "outputs": []
    },
    {
      "cell_type": "code",
      "source": [
        "# 18.\tReplace all the spaces in the column names with ‘_’ and show the changed column again.\n",
        "DF.columns = DF.columns.str.replace(\" \", \"_\") \n",
        "DF.columns"
      ],
      "metadata": {
        "id": "A40Xdy0Z7JS2"
      },
      "execution_count": null,
      "outputs": []
    },
    {
      "cell_type": "code",
      "source": [
        "# 19.\tDelete the 'brand', 'total' columns permanently. \n",
        "DF.drop([\"brand\", \"total\"], axis = 1, inplace = True)\n",
        "DF.head()"
      ],
      "metadata": {
        "id": "NPAij-nJ75qW"
      },
      "execution_count": null,
      "outputs": []
    },
    {
      "cell_type": "code",
      "source": [
        "# 20.\tDelete row number 3 and row number 5 from the DF permanently and show the top 5 rows.\n",
        "DF.drop([2, 4], axis = 0, inplace=True)\n",
        "DF.head()"
      ],
      "metadata": {
        "id": "60gLyWnn9hba"
      },
      "execution_count": null,
      "outputs": []
    },
    {
      "cell_type": "code",
      "source": [
        "# 21.\tSort the value Series in ascending order, showing only the value column.\n",
        "DF[\"value\"].sort_values(ascending = True)"
      ],
      "metadata": {
        "id": "EX8CDXF--Akz"
      },
      "execution_count": null,
      "outputs": []
    },
    {
      "cell_type": "code",
      "source": [
        "# 22.\tSort the value Series in ascending order, showing the whole DataFrame. \n",
        "DF.sort_values(\"value\", ascending = True)\n",
        "#DF.head()"
      ],
      "metadata": {
        "id": "dyN24yaW-1_m"
      },
      "execution_count": null,
      "outputs": []
    },
    {
      "cell_type": "code",
      "source": [
        "# 23.\tSort the value Series in ascending order, showing the whole DataFrame, inplace.\n",
        "DF.sort_values(\"value\", ascending = True, inplace = True)\n",
        "#DF.head()"
      ],
      "metadata": {
        "id": "6Uagu-Oa_WR3"
      },
      "execution_count": null,
      "outputs": []
    },
    {
      "cell_type": "code",
      "source": [
        "DF.head()"
      ],
      "metadata": {
        "id": "A5GjJO7F_gTF"
      },
      "execution_count": null,
      "outputs": []
    },
    {
      "cell_type": "code",
      "source": [
        "# 24.\tSort myDF DataFrame based on the range and value in ascending and descending order, respectively. (range in ascending and value in descending order).\n",
        "DF.sort_values([\"range\", \"value\"], \n",
        "               ascending=[True, False])"
      ],
      "metadata": {
        "id": "difx0UMXAZbf"
      },
      "execution_count": null,
      "outputs": []
    },
    {
      "cell_type": "code",
      "source": [
        "# 25.\tDisplay those rows of myDF that their range is between 250 and 350.\n",
        "DF[DF[\"range\"].between(250, 300)].sort_values(by = [\"range\"])"
      ],
      "metadata": {
        "id": "Edyg06bqAg47"
      },
      "execution_count": null,
      "outputs": []
    },
    {
      "cell_type": "code",
      "source": [
        "# 26.\tDisplay those rows of myDF that their range is between 250 and 350 in an ascending sorted format.\n",
        "DF[DF[\"range\"].between(250, 300)].sort_values(by = [\"range\"], ascending = True)"
      ],
      "metadata": {
        "id": "-JC8_g3jGqH4"
      },
      "execution_count": null,
      "outputs": []
    },
    {
      "cell_type": "code",
      "source": [
        "# 27.\tDisplay only the id and value columns of those rows of myDF that their range is between 250 and 350.\n",
        "range = DF.range\n",
        "DF[(range >=250) & (range <= 350)][[\"id\", \"value\"]]"
      ],
      "metadata": {
        "id": "g62mKeFuMJeX"
      },
      "execution_count": null,
      "outputs": []
    },
    {
      "cell_type": "code",
      "source": [
        "# 28.\tDisplay only the id, value and machine_type columns of the of those rows of myDF that their range is between 250 and 350 and their ‘machine_type’ is equal to ‘H’.\n",
        "range = DF.range\n",
        "mt = DF.machine_type\n",
        "DF[(range >=250) & (range <= 350) & (mt == \"H\")]"
      ],
      "metadata": {
        "id": "SweSyZ0LI5Bu"
      },
      "execution_count": null,
      "outputs": []
    },
    {
      "cell_type": "code",
      "source": [
        "# 29.\tDisplay those rows of myDF that their ‘machine_type’ is equal to ‘H’ or ‘R’ or ‘X’. (entire DataFrame)\n",
        "machine = DF.machine_type\n",
        "DF[(machine == \"H\") | (machine == \"R\") | (machine == \"X\")]"
      ],
      "metadata": {
        "id": "ce4prWoUNw7C"
      },
      "execution_count": null,
      "outputs": []
    },
    {
      "cell_type": "code",
      "source": [
        "# 30.\tShow the myDF columns’ datatype. Display (select) only the numerical columns.\n",
        "res = DF.select_dtypes(include= \"number\")\n",
        "res"
      ],
      "metadata": {
        "id": "ZtVwg3dwOIDn"
      },
      "execution_count": null,
      "outputs": []
    }
  ]
}