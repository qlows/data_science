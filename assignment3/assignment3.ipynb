{
  "nbformat": 4,
  "nbformat_minor": 0,
  "metadata": {
    "colab": {
      "provenance": []
    },
    "kernelspec": {
      "name": "python3",
      "display_name": "Python 3"
    },
    "language_info": {
      "name": "python"
    }
  },
  "cells": [
    {
      "cell_type": "markdown",
      "source": [
        "**Umit Kilinc** \n",
        "\n",
        "**101232721**"
      ],
      "metadata": {
        "id": "QAV66qFRPf_-"
      }
    },
    {
      "cell_type": "code",
      "execution_count": 4,
      "metadata": {
        "id": "tknLENGKIxHX"
      },
      "outputs": [],
      "source": [
        "import pandas as pd"
      ]
    },
    {
      "cell_type": "code",
      "source": [
        "# 1.\tDownload the test.csv file and store it in a DataFrame named, myDF.\n",
        "DF = pd.read_csv(\"/content/test.csv\")"
      ],
      "metadata": {
        "id": "aU54AnvuJlSV"
      },
      "execution_count": 5,
      "outputs": []
    },
    {
      "cell_type": "code",
      "source": [
        "# 2.\tShow the first five rows of the DF.\n",
        "DF.head()"
      ],
      "metadata": {
        "colab": {
          "base_uri": "https://localhost:8080/",
          "height": 206
        },
        "id": "MAwo4Vb4J6ip",
        "outputId": "4ccf1652-4c87-41b8-9bb3-e65d34dc64a1"
      },
      "execution_count": 6,
      "outputs": [
        {
          "output_type": "execute_result",
          "data": {
            "text/plain": [
              "   10    192    50  F  NXEYEM\n",
              "0  20  299.0  21.0  M  VNFKZD\n",
              "1  30  378.0  28.0  X  IMGMFY\n",
              "2  40  156.0  44.0  Q  RHRHJY\n",
              "3  50  468.0  33.0  J  HPQCMC\n",
              "4  60  347.0  38.0  X  XFEWVB"
            ],
            "text/html": [
              "\n",
              "  <div id=\"df-63f90db9-02fe-4973-9c92-8ee6f5ed4c3f\">\n",
              "    <div class=\"colab-df-container\">\n",
              "      <div>\n",
              "<style scoped>\n",
              "    .dataframe tbody tr th:only-of-type {\n",
              "        vertical-align: middle;\n",
              "    }\n",
              "\n",
              "    .dataframe tbody tr th {\n",
              "        vertical-align: top;\n",
              "    }\n",
              "\n",
              "    .dataframe thead th {\n",
              "        text-align: right;\n",
              "    }\n",
              "</style>\n",
              "<table border=\"1\" class=\"dataframe\">\n",
              "  <thead>\n",
              "    <tr style=\"text-align: right;\">\n",
              "      <th></th>\n",
              "      <th>10</th>\n",
              "      <th>192</th>\n",
              "      <th>50</th>\n",
              "      <th>F</th>\n",
              "      <th>NXEYEM</th>\n",
              "    </tr>\n",
              "  </thead>\n",
              "  <tbody>\n",
              "    <tr>\n",
              "      <th>0</th>\n",
              "      <td>20</td>\n",
              "      <td>299.0</td>\n",
              "      <td>21.0</td>\n",
              "      <td>M</td>\n",
              "      <td>VNFKZD</td>\n",
              "    </tr>\n",
              "    <tr>\n",
              "      <th>1</th>\n",
              "      <td>30</td>\n",
              "      <td>378.0</td>\n",
              "      <td>28.0</td>\n",
              "      <td>X</td>\n",
              "      <td>IMGMFY</td>\n",
              "    </tr>\n",
              "    <tr>\n",
              "      <th>2</th>\n",
              "      <td>40</td>\n",
              "      <td>156.0</td>\n",
              "      <td>44.0</td>\n",
              "      <td>Q</td>\n",
              "      <td>RHRHJY</td>\n",
              "    </tr>\n",
              "    <tr>\n",
              "      <th>3</th>\n",
              "      <td>50</td>\n",
              "      <td>468.0</td>\n",
              "      <td>33.0</td>\n",
              "      <td>J</td>\n",
              "      <td>HPQCMC</td>\n",
              "    </tr>\n",
              "    <tr>\n",
              "      <th>4</th>\n",
              "      <td>60</td>\n",
              "      <td>347.0</td>\n",
              "      <td>38.0</td>\n",
              "      <td>X</td>\n",
              "      <td>XFEWVB</td>\n",
              "    </tr>\n",
              "  </tbody>\n",
              "</table>\n",
              "</div>\n",
              "      <button class=\"colab-df-convert\" onclick=\"convertToInteractive('df-63f90db9-02fe-4973-9c92-8ee6f5ed4c3f')\"\n",
              "              title=\"Convert this dataframe to an interactive table.\"\n",
              "              style=\"display:none;\">\n",
              "        \n",
              "  <svg xmlns=\"http://www.w3.org/2000/svg\" height=\"24px\"viewBox=\"0 0 24 24\"\n",
              "       width=\"24px\">\n",
              "    <path d=\"M0 0h24v24H0V0z\" fill=\"none\"/>\n",
              "    <path d=\"M18.56 5.44l.94 2.06.94-2.06 2.06-.94-2.06-.94-.94-2.06-.94 2.06-2.06.94zm-11 1L8.5 8.5l.94-2.06 2.06-.94-2.06-.94L8.5 2.5l-.94 2.06-2.06.94zm10 10l.94 2.06.94-2.06 2.06-.94-2.06-.94-.94-2.06-.94 2.06-2.06.94z\"/><path d=\"M17.41 7.96l-1.37-1.37c-.4-.4-.92-.59-1.43-.59-.52 0-1.04.2-1.43.59L10.3 9.45l-7.72 7.72c-.78.78-.78 2.05 0 2.83L4 21.41c.39.39.9.59 1.41.59.51 0 1.02-.2 1.41-.59l7.78-7.78 2.81-2.81c.8-.78.8-2.07 0-2.86zM5.41 20L4 18.59l7.72-7.72 1.47 1.35L5.41 20z\"/>\n",
              "  </svg>\n",
              "      </button>\n",
              "      \n",
              "  <style>\n",
              "    .colab-df-container {\n",
              "      display:flex;\n",
              "      flex-wrap:wrap;\n",
              "      gap: 12px;\n",
              "    }\n",
              "\n",
              "    .colab-df-convert {\n",
              "      background-color: #E8F0FE;\n",
              "      border: none;\n",
              "      border-radius: 50%;\n",
              "      cursor: pointer;\n",
              "      display: none;\n",
              "      fill: #1967D2;\n",
              "      height: 32px;\n",
              "      padding: 0 0 0 0;\n",
              "      width: 32px;\n",
              "    }\n",
              "\n",
              "    .colab-df-convert:hover {\n",
              "      background-color: #E2EBFA;\n",
              "      box-shadow: 0px 1px 2px rgba(60, 64, 67, 0.3), 0px 1px 3px 1px rgba(60, 64, 67, 0.15);\n",
              "      fill: #174EA6;\n",
              "    }\n",
              "\n",
              "    [theme=dark] .colab-df-convert {\n",
              "      background-color: #3B4455;\n",
              "      fill: #D2E3FC;\n",
              "    }\n",
              "\n",
              "    [theme=dark] .colab-df-convert:hover {\n",
              "      background-color: #434B5C;\n",
              "      box-shadow: 0px 1px 3px 1px rgba(0, 0, 0, 0.15);\n",
              "      filter: drop-shadow(0px 1px 2px rgba(0, 0, 0, 0.3));\n",
              "      fill: #FFFFFF;\n",
              "    }\n",
              "  </style>\n",
              "\n",
              "      <script>\n",
              "        const buttonEl =\n",
              "          document.querySelector('#df-63f90db9-02fe-4973-9c92-8ee6f5ed4c3f button.colab-df-convert');\n",
              "        buttonEl.style.display =\n",
              "          google.colab.kernel.accessAllowed ? 'block' : 'none';\n",
              "\n",
              "        async function convertToInteractive(key) {\n",
              "          const element = document.querySelector('#df-63f90db9-02fe-4973-9c92-8ee6f5ed4c3f');\n",
              "          const dataTable =\n",
              "            await google.colab.kernel.invokeFunction('convertToInteractive',\n",
              "                                                     [key], {});\n",
              "          if (!dataTable) return;\n",
              "\n",
              "          const docLinkHtml = 'Like what you see? Visit the ' +\n",
              "            '<a target=\"_blank\" href=https://colab.research.google.com/notebooks/data_table.ipynb>data table notebook</a>'\n",
              "            + ' to learn more about interactive tables.';\n",
              "          element.innerHTML = '';\n",
              "          dataTable['output_type'] = 'display_data';\n",
              "          await google.colab.output.renderOutput(dataTable, element);\n",
              "          const docLink = document.createElement('div');\n",
              "          docLink.innerHTML = docLinkHtml;\n",
              "          element.appendChild(docLink);\n",
              "        }\n",
              "      </script>\n",
              "    </div>\n",
              "  </div>\n",
              "  "
            ]
          },
          "metadata": {},
          "execution_count": 6
        }
      ]
    },
    {
      "cell_type": "code",
      "source": [
        "# 3.\tDoes the first row contain the column names? If not, please assign the following column names to them:\n",
        "# [ID, Range, Value, Machine Type, Zip code]\n",
        "\n",
        "DF_columns = [\"ID\", \"Range\", \"Value\", \"Machine Type\", \"Zip Code\"]"
      ],
      "metadata": {
        "id": "mnSbRCPeKAQR"
      },
      "execution_count": 7,
      "outputs": []
    },
    {
      "cell_type": "code",
      "source": [
        "# 4.\tAdd your name and student number on top of your dataset in your local file and show your DF with your name and student number as part of the dataset.\n",
        "new_DF = [{\n",
        "    \"ID\": \"Umit Kilinc 101232721\",\n",
        "}]\n",
        "\n",
        "DF = DF.append(new_DF)\n",
        "DF"
      ],
      "metadata": {
        "id": "DMlQQZaBK8dP"
      },
      "execution_count": null,
      "outputs": []
    },
    {
      "cell_type": "code",
      "source": [
        "# 5.\tNow, use a method to skip the first row and show the DF as it was before adding your information.\n",
        "pd.read_csv(\"/content/test.csv\", skiprows=0)"
      ],
      "metadata": {
        "id": "h0QoVWXkMErn"
      },
      "execution_count": null,
      "outputs": []
    },
    {
      "cell_type": "code",
      "source": [
        "# 6.\tShow the type of your DF.\n",
        "DF.dtypes"
      ],
      "metadata": {
        "id": "S3IbVjCbOsQ0"
      },
      "execution_count": null,
      "outputs": []
    },
    {
      "cell_type": "code",
      "source": [
        "# 7.\tSelect the ‘Value’ column using two different commands. Which one is more object-oriented style?\n",
        "DF=pd.read_csv('/content/test.csv', header=None, names=DF_columns)\n",
        "DF.head()"
      ],
      "metadata": {
        "id": "lx8j8GpivIJ0"
      },
      "execution_count": null,
      "outputs": []
    },
    {
      "cell_type": "code",
      "source": [
        "# Alternative to Q7\n",
        "# Using loc[] to select columns. Enter the name of the column:\n",
        "#DF_value = DF.loc[:, [\"Value\"]]\n",
        "#DF_value\n",
        "\n",
        "# Using iloc[] to select columns. Enter the index of the column:\n",
        "#DF_value = DF.iloc[:, [2]]\n",
        "#DF_value\n",
        "\n",
        "# Alternative to Q9\n",
        "\n",
        "# Yes, we can apply both methods to fetch both \"Value\" and \"Zip Code\" column\n",
        "\n",
        "# Using loc[] to select multiple columns. Enter the name of the columns:\n",
        "#DF_multiple = DF.loc[:, [\"Value\", \"Zip Code\"]]\n",
        "#DF_multiple\n",
        "\n",
        "# Using iloc[] to select multiple columns. Enter the index of the columns:\n",
        "#DF_multiple = DF.iloc[:, [2, 4]]\n",
        "#DF_multiple"
      ],
      "metadata": {
        "id": "bX731ohPOwOK"
      },
      "execution_count": null,
      "outputs": []
    },
    {
      "cell_type": "code",
      "source": [
        "# 8.\tWhat is the type of this selected column?\n",
        "DF.dtypes"
      ],
      "metadata": {
        "id": "cZkXfOHVPGrS"
      },
      "execution_count": null,
      "outputs": []
    },
    {
      "cell_type": "code",
      "source": [
        "# 9.\tCan we apply both methods (mentioned in question 7) \n",
        "# for fetching the ‘Zip code’ column? Which other column has the same status? Why we cannot use both method for fetching its content? \n",
        "DF=pd.read_csv('/content/test.csv', header=None, names=DF_columns, skiprows=[1])\n",
        "DF.head()"
      ],
      "metadata": {
        "id": "5FcUC6jvvsIE"
      },
      "execution_count": null,
      "outputs": []
    },
    {
      "cell_type": "code",
      "source": [
        "# 10.\tCreate a new Series called ‘Brand’ by combining 'Machine Type' and 'Zip code' Series.\n",
        "DF[\"Brand\"] = DF[\"Machine Type\"] + DF['Zip Code']\n",
        "DF.head()"
      ],
      "metadata": {
        "id": "TJy0imP1qQ3X"
      },
      "execution_count": null,
      "outputs": []
    },
    {
      "cell_type": "code",
      "source": [
        "# 11.\tCreate a new Series called ‘Total’ by multiplying ‘Range’ and ‘Value’ Series.\n",
        "DF[\"Total\"] = DF[\"Range\"] * DF['Value']\n",
        "DF.head()"
      ],
      "metadata": {
        "id": "2Vm902kEtvxe"
      },
      "execution_count": null,
      "outputs": []
    },
    {
      "cell_type": "code",
      "source": [
        "# Q12 a.\n",
        "DF.head()"
      ],
      "metadata": {
        "id": "S4Nnjb_d0NSu"
      },
      "execution_count": null,
      "outputs": []
    },
    {
      "cell_type": "code",
      "source": [
        "# Q12 b.\n",
        "DF.describe()"
      ],
      "metadata": {
        "id": "L4EGffNz0lOq"
      },
      "execution_count": null,
      "outputs": []
    },
    {
      "cell_type": "code",
      "source": [
        "# Q12 c.\n",
        "DF.describe"
      ],
      "metadata": {
        "id": "WtxT3Ul30rqG"
      },
      "execution_count": null,
      "outputs": []
    },
    {
      "cell_type": "code",
      "source": [
        "# Q12 d.\n",
        "DF.shape"
      ],
      "metadata": {
        "id": "AYV0ycJ20uJA"
      },
      "execution_count": null,
      "outputs": []
    },
    {
      "cell_type": "code",
      "source": [
        "# Q12 e.\n",
        "DF.dtypes\n",
        "\n",
        "# In pandas actions require parantheses and attributes don't require paranthesis. \n",
        "# The difference between b. and c. is that b. is an action. \n",
        "# An action is a state of what you do. For instance, dog.sleep() or dog.bark(to_stranger).\n",
        "# c. is an attribute. An attribute is a state of who you are. For instance, dog.breed or dog.color."
      ],
      "metadata": {
        "id": "n-4iy-YV0zDp"
      },
      "execution_count": null,
      "outputs": []
    },
    {
      "cell_type": "code",
      "source": [
        "# Q13 \n",
        "# Describing all columns regardless of data type\n",
        "DF.describe(include=\"all\")"
      ],
      "metadata": {
        "id": "8rQwvni901w-"
      },
      "execution_count": null,
      "outputs": []
    },
    {
      "cell_type": "code",
      "source": [
        "# Q14\n",
        "DF.rename(columns = {\"ID\": \"My ID\"}, inplace= False)\n",
        "#DF.head()"
      ],
      "metadata": {
        "id": "ZFzi75uM24W-"
      },
      "execution_count": null,
      "outputs": []
    },
    {
      "cell_type": "code",
      "source": [
        "# Q15\n",
        "DF.rename(columns = {\"ID\": \"My ID\"}, inplace= True)\n",
        "DF.head()"
      ],
      "metadata": {
        "id": "GpHyWDn_5dqc"
      },
      "execution_count": null,
      "outputs": []
    },
    {
      "cell_type": "code",
      "source": [
        "# Q16\n",
        "print(DF.columns.tolist())"
      ],
      "metadata": {
        "id": "0Pl7cCPp6mEp"
      },
      "execution_count": null,
      "outputs": []
    },
    {
      "cell_type": "code",
      "source": [
        "# Q17\n",
        "DF_new_columns = [\"id\", \"range\", \"value\", \"machine type\", \"zip code\", \"brand\", \"total\"]\n",
        "DF.columns = DF_new_columns\n",
        "DF.head()"
      ],
      "metadata": {
        "id": "kLzCBPm_6qmI"
      },
      "execution_count": null,
      "outputs": []
    },
    {
      "cell_type": "code",
      "source": [
        "# Q18\n",
        "DF.columns = DF.columns.str.replace(\" \", \"_\") \n",
        "DF.columns"
      ],
      "metadata": {
        "id": "A40Xdy0Z7JS2"
      },
      "execution_count": null,
      "outputs": []
    },
    {
      "cell_type": "code",
      "source": [
        "# Q19\n",
        "DF.drop([\"brand\", \"total\"], axis = 1, inplace = True)\n",
        "DF.head()"
      ],
      "metadata": {
        "id": "NPAij-nJ75qW"
      },
      "execution_count": null,
      "outputs": []
    },
    {
      "cell_type": "code",
      "source": [
        "# Q20\n",
        "DF.drop([2, 4], axis = 0, inplace=True)\n",
        "DF.head()"
      ],
      "metadata": {
        "id": "60gLyWnn9hba"
      },
      "execution_count": null,
      "outputs": []
    },
    {
      "cell_type": "code",
      "source": [
        "# Q21\n",
        "DF[\"value\"].sort_values(ascending = True)"
      ],
      "metadata": {
        "id": "EX8CDXF--Akz"
      },
      "execution_count": null,
      "outputs": []
    },
    {
      "cell_type": "code",
      "source": [
        "# Q22\n",
        "DF.sort_values(\"value\", ascending = True)\n",
        "#DF.head()"
      ],
      "metadata": {
        "id": "dyN24yaW-1_m"
      },
      "execution_count": null,
      "outputs": []
    },
    {
      "cell_type": "code",
      "source": [
        "# Q23\n",
        "DF.sort_values(\"value\", ascending = True, inplace = True)\n",
        "#DF.head()"
      ],
      "metadata": {
        "id": "6Uagu-Oa_WR3"
      },
      "execution_count": null,
      "outputs": []
    },
    {
      "cell_type": "code",
      "source": [
        "DF.head()"
      ],
      "metadata": {
        "id": "A5GjJO7F_gTF"
      },
      "execution_count": null,
      "outputs": []
    },
    {
      "cell_type": "code",
      "source": [
        "# Q24\n",
        "DF.sort_values([\"range\", \"value\"], \n",
        "               ascending=[True, False])"
      ],
      "metadata": {
        "id": "difx0UMXAZbf"
      },
      "execution_count": null,
      "outputs": []
    },
    {
      "cell_type": "code",
      "source": [
        "# Q25\n",
        "\n",
        "DF[DF[\"range\"].between(250, 300)].sort_values(by = [\"range\"])"
      ],
      "metadata": {
        "id": "Edyg06bqAg47"
      },
      "execution_count": null,
      "outputs": []
    },
    {
      "cell_type": "code",
      "source": [
        "# Q26\n",
        "DF[DF[\"range\"].between(250, 300)].sort_values(by = [\"range\"], ascending = True)"
      ],
      "metadata": {
        "id": "-JC8_g3jGqH4"
      },
      "execution_count": null,
      "outputs": []
    },
    {
      "cell_type": "code",
      "source": [
        "# Q27\n",
        "range = DF.range\n",
        "DF[(range >=250) & (range <= 350)][[\"id\", \"value\"]]"
      ],
      "metadata": {
        "id": "g62mKeFuMJeX"
      },
      "execution_count": null,
      "outputs": []
    },
    {
      "cell_type": "code",
      "source": [
        "# Q28\n",
        "range = DF.range\n",
        "mt = DF.machine_type\n",
        "DF[(range >=250) & (range <= 350) & (mt == \"H\")]"
      ],
      "metadata": {
        "id": "SweSyZ0LI5Bu"
      },
      "execution_count": null,
      "outputs": []
    },
    {
      "cell_type": "code",
      "source": [
        "# Q29\n",
        "machine = DF.machine_type\n",
        "DF[(machine == \"H\") | (machine == \"R\") | (machine == \"X\")]"
      ],
      "metadata": {
        "id": "ce4prWoUNw7C"
      },
      "execution_count": null,
      "outputs": []
    },
    {
      "cell_type": "code",
      "source": [
        "# Q30\n",
        "res = DF.select_dtypes(include= \"number\")\n",
        "res"
      ],
      "metadata": {
        "id": "ZtVwg3dwOIDn"
      },
      "execution_count": null,
      "outputs": []
    }
  ]
}