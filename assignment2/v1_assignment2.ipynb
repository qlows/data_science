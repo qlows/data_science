{
  "cells": [
    {
      "cell_type": "markdown",
      "metadata": {
        "id": "PibU2FZO4iq3"
      },
      "source": [
        "#UMIT KILINC\n",
        "#101232721"
      ]
    },
    {
      "cell_type": "markdown",
      "metadata": {
        "id": "ifmmfhL-ImK8"
      },
      "source": [
        "**Part A**"
      ]
    },
    {
      "cell_type": "code",
      "execution_count": null,
      "metadata": {
        "id": "AdTm348Q433v"
      },
      "outputs": [],
      "source": [
        "import pandas as pd\n",
        "import numpy as np\n",
        "from sklearn.tree import DecisionTreeClassifier\n",
        "from sklearn.tree import DecisionTreeRegressor\n",
        "from sklearn import metrics\n",
        "from sklearn.model_selection import train_test_split"
      ]
    },
    {
      "cell_type": "code",
      "execution_count": null,
      "metadata": {
        "id": "9MvVmvXV5OYf"
      },
      "outputs": [],
      "source": [
        "tennisDS = pd.read_csv(\"/content/tennisDS.csv\")"
      ]
    },
    {
      "cell_type": "code",
      "execution_count": null,
      "metadata": {
        "id": "5xY1ec3CH1nA"
      },
      "outputs": [],
      "source": [
        "print(tennisDS.shape)"
      ]
    },
    {
      "cell_type": "code",
      "execution_count": null,
      "metadata": {
        "id": "YrngxSoeJYcB"
      },
      "outputs": [],
      "source": [
        "tennisDS.head()"
      ]
    },
    {
      "cell_type": "code",
      "execution_count": null,
      "metadata": {
        "id": "xOYG6Hr7iwTi"
      },
      "outputs": [],
      "source": [
        "print(tennisDS.columns.tolist())"
      ]
    },
    {
      "cell_type": "code",
      "execution_count": null,
      "metadata": {
        "id": "8u_aG2EVaAiH"
      },
      "outputs": [],
      "source": [
        "# Giving numerical value to each row name in specific columns in tennisDS\n",
        "tennisDS[\"Visibility\"] = tennisDS[\"Visibility\"].map({\"Unlimited\": 1, \"Limited\": 0})\n",
        "tennisDS[\"Pressure\"] = tennisDS[\"Pressure\"].map({\"High\": 1, \"Low\": 0})\n",
        "tennisDS[\"WindSpeed\"] = tennisDS[\"WindSpeed\"].map({\"Fast\": 1, \"Slow\": 0})\n",
        "tennisDS[\"Court\"] = tennisDS[\"Court\"].map({\"Open\": 1, \"Closed\": 0})\n",
        "tennisDS[\"Teammate\"] = tennisDS[\"Teammate\"].map({\"Available\": 1, \"Busy\": 0})"
      ]
    },
    {
      "cell_type": "code",
      "execution_count": null,
      "metadata": {
        "id": "W4sA9X-v7GGn"
      },
      "outputs": [],
      "source": [
        "# Replace NULL values with the number\n",
        "# tennisDS = tennisDS.fillna(0)"
      ]
    },
    {
      "cell_type": "code",
      "execution_count": null,
      "metadata": {
        "id": "89wg1YUclGol"
      },
      "outputs": [],
      "source": [
        "tennisDS.head()"
      ]
    },
    {
      "cell_type": "code",
      "execution_count": null,
      "metadata": {
        "id": "KThLNwM5lIc0"
      },
      "outputs": [],
      "source": [
        "test_tennisDS = pd.read_csv(\"/content/test_tennisDB.csv\")"
      ]
    },
    {
      "cell_type": "code",
      "execution_count": null,
      "metadata": {
        "id": "xJykxoFhqKFt"
      },
      "outputs": [],
      "source": [
        "test_tennisDS.head()"
      ]
    },
    {
      "cell_type": "code",
      "execution_count": null,
      "metadata": {
        "id": "jtQNAOU0qMmm"
      },
      "outputs": [],
      "source": [
        "# Detect if the data is missing values\n",
        "pd.isna(test_tennisDS)"
      ]
    },
    {
      "cell_type": "code",
      "execution_count": null,
      "metadata": {
        "id": "_x55cZ8f022f"
      },
      "outputs": [],
      "source": [
        "# Detect if the data is missing values\n",
        "pd.isna(tennisDS)"
      ]
    },
    {
      "cell_type": "code",
      "execution_count": null,
      "metadata": {
        "id": "NSUYwk-k0jU9"
      },
      "outputs": [],
      "source": [
        "test_tennisDS.shape"
      ]
    },
    {
      "cell_type": "code",
      "execution_count": null,
      "metadata": {
        "id": "QI3I0Z9S076j"
      },
      "outputs": [],
      "source": [
        "# Giving numerical value to each row name in specific columns in test_tennisDS\n",
        "test_tennisDS[\"Visibility\"] = test_tennisDS[\"Visibility\"].map({\"Unlimited\": 1, \"Limited\": 0})\n",
        "test_tennisDS[\"Pressure\"] = test_tennisDS[\"Pressure\"].map({\"High\": 1, \"Low\": 0})\n",
        "test_tennisDS[\"WindSpeed\"] = test_tennisDS[\"WindSpeed\"].map({\"Fast\": 1, \"Slow\": 0})\n",
        "test_tennisDS[\"Court\"] = test_tennisDS[\"Court\"].map({\"Open\": 1, \"Closed\t\": 0})\n",
        "test_tennisDS[\"Teammate\"] = test_tennisDS[\"Teammate\"].map({\"Available\": 1, \"Busy\": 0})"
      ]
    },
    {
      "cell_type": "code",
      "execution_count": null,
      "metadata": {
        "id": "UNvh0MAks7AJ"
      },
      "outputs": [],
      "source": [
        "# Separating the data variables into two data frames\n",
        "X = tennisDS.drop([\"Teammate\"], axis=1)\n",
        "Y = tennisDS[\"Teammate\"]\n",
        "\n",
        "# Splitting the dataset into 70% training data and 30% testing data\n",
        "X_train, X_test, Y_train, Y_test = train_test_split(X, Y, test_size=.30, random_state=0)\n",
        "\n",
        "# Building the decision tree model on our dataset\n",
        "model = DecisionTreeRegressor().fit(X_train,Y_train)\n",
        "predict = model.predict(X_test)\n",
        "\n",
        "predict"
      ]
    },
    {
      "cell_type": "markdown",
      "metadata": {
        "id": "UKnfZ1eEIebf"
      },
      "source": [
        "**Part B**"
      ]
    },
    {
      "cell_type": "code",
      "execution_count": 4,
      "metadata": {
        "id": "W6KyGGVFIeNA"
      },
      "outputs": [],
      "source": [
        "from sklearn import tree\n",
        "from sklearn import datasets\n",
        "from sklearn.metrics import accuracy_score"
      ]
    },
    {
      "cell_type": "code",
      "execution_count": null,
      "metadata": {
        "id": "SjHrTE5iMguN"
      },
      "outputs": [],
      "source": [
        "covidDS = pd.read_csv(\"/content/covidDS.csv\")\n",
        "covidDS.shape"
      ]
    },
    {
      "cell_type": "code",
      "execution_count": null,
      "metadata": {
        "id": "xfkEUPWw6LEV"
      },
      "outputs": [],
      "source": [
        "# Detect if the data is missing values\n",
        "pd.isna(covidDS)"
      ]
    },
    {
      "cell_type": "code",
      "execution_count": null,
      "metadata": {
        "id": "qcSlY2fG40fx"
      },
      "outputs": [],
      "source": [
        "covidDS.head()"
      ]
    },
    {
      "cell_type": "code",
      "execution_count": null,
      "metadata": {
        "id": "FWE17nAx4nSj"
      },
      "outputs": [],
      "source": [
        "print(covidDS.columns.tolist())"
      ]
    },
    {
      "cell_type": "code",
      "execution_count": 10,
      "metadata": {
        "id": "mPIO9BqLMxEI"
      },
      "outputs": [],
      "source": [
        "# Splitting the dataset into 70% training data and 30% testing data\n",
        "X_train , X_test, Y_train, Y_test = train_test_split(covidDS.iloc[:,:-1].values, covidDS.iloc[:,-1].values, test_size=0.3)"
      ]
    },
    {
      "cell_type": "code",
      "execution_count": null,
      "metadata": {
        "id": "d0n7cFO_S_s_"
      },
      "outputs": [],
      "source": [
        "dtc = DecisionTreeClassifier().fit(X_train,Y_train.ravel())\n",
        "Y_prediction = dtc.predict(X_test)\n",
        "print(accuracy_score(Y_test,Y_prediction))"
      ]
    }
  ],
  "metadata": {
    "colab": {
      "collapsed_sections": [],
      "provenance": []
    },
    "kernelspec": {
      "display_name": "Python 3.9.12 ('base')",
      "language": "python",
      "name": "python3"
    },
    "language_info": {
      "name": "python",
      "version": "3.9.12"
    },
    "vscode": {
      "interpreter": {
        "hash": "5179d32cf6ec497baf3f8a3ef987cc77c5d2dc691fdde20a56316522f61a7323"
      }
    }
  },
  "nbformat": 4,
  "nbformat_minor": 0
}
