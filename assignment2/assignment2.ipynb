{
  "nbformat": 4,
  "nbformat_minor": 0,
  "metadata": {
    "colab": {
      "provenance": [],
      "collapsed_sections": []
    },
    "kernelspec": {
      "name": "python3",
      "display_name": "Python 3"
    },
    "language_info": {
      "name": "python"
    }
  },
  "cells": [
    {
      "cell_type": "markdown",
      "source": [
        "#UMIT KILINC\n",
        "#101232721"
      ],
      "metadata": {
        "id": "PibU2FZO4iq3"
      }
    },
    {
      "cell_type": "markdown",
      "source": [
        "**Part A**"
      ],
      "metadata": {
        "id": "ifmmfhL-ImK8"
      }
    },
    {
      "cell_type": "code",
      "source": [
        "import pandas as pd\n",
        "import numpy as np\n",
        "from sklearn.tree import DecisionTreeClassifier\n",
        "from sklearn.tree import DecisionTreeRegressor\n",
        "from sklearn import metrics\n",
        "from sklearn.model_selection import train_test_split"
      ],
      "metadata": {
        "id": "AdTm348Q433v"
      },
      "execution_count": 99,
      "outputs": []
    },
    {
      "cell_type": "code",
      "source": [
        "tennisDS = pd.read_csv(\"/content/tennisDS.csv\")"
      ],
      "metadata": {
        "id": "9MvVmvXV5OYf"
      },
      "execution_count": 100,
      "outputs": []
    },
    {
      "cell_type": "code",
      "source": [
        "print(tennisDS.shape)"
      ],
      "metadata": {
        "id": "5xY1ec3CH1nA",
        "colab": {
          "base_uri": "https://localhost:8080/"
        },
        "outputId": "2783b316-f376-4bb1-cf9f-abde84d9e995"
      },
      "execution_count": 101,
      "outputs": [
        {
          "output_type": "stream",
          "name": "stdout",
          "text": [
            "(26, 5)\n"
          ]
        }
      ]
    },
    {
      "cell_type": "code",
      "source": [
        "tennisDS.head()"
      ],
      "metadata": {
        "id": "YrngxSoeJYcB",
        "colab": {
          "base_uri": "https://localhost:8080/",
          "height": 206
        },
        "outputId": "82029e19-6211-40d5-fa13-053fe4327dd6"
      },
      "execution_count": 102,
      "outputs": [
        {
          "output_type": "execute_result",
          "data": {
            "text/plain": [
              "  Visibility Pressure WindSpeed   Court   Teammate\n",
              "0  Unlimited     High      Fast    Open  Available\n",
              "1    Limited     High      Slow    Open  Available\n",
              "2  Unlimited      Low      Fast  Closed       Busy\n",
              "3  Unlimited     High      Fast    Open  Available\n",
              "4  Unlimited     High      Slow    Open       Busy"
            ],
            "text/html": [
              "\n",
              "  <div id=\"df-32f50930-87f3-4927-89e3-19d96348864b\">\n",
              "    <div class=\"colab-df-container\">\n",
              "      <div>\n",
              "<style scoped>\n",
              "    .dataframe tbody tr th:only-of-type {\n",
              "        vertical-align: middle;\n",
              "    }\n",
              "\n",
              "    .dataframe tbody tr th {\n",
              "        vertical-align: top;\n",
              "    }\n",
              "\n",
              "    .dataframe thead th {\n",
              "        text-align: right;\n",
              "    }\n",
              "</style>\n",
              "<table border=\"1\" class=\"dataframe\">\n",
              "  <thead>\n",
              "    <tr style=\"text-align: right;\">\n",
              "      <th></th>\n",
              "      <th>Visibility</th>\n",
              "      <th>Pressure</th>\n",
              "      <th>WindSpeed</th>\n",
              "      <th>Court</th>\n",
              "      <th>Teammate</th>\n",
              "    </tr>\n",
              "  </thead>\n",
              "  <tbody>\n",
              "    <tr>\n",
              "      <th>0</th>\n",
              "      <td>Unlimited</td>\n",
              "      <td>High</td>\n",
              "      <td>Fast</td>\n",
              "      <td>Open</td>\n",
              "      <td>Available</td>\n",
              "    </tr>\n",
              "    <tr>\n",
              "      <th>1</th>\n",
              "      <td>Limited</td>\n",
              "      <td>High</td>\n",
              "      <td>Slow</td>\n",
              "      <td>Open</td>\n",
              "      <td>Available</td>\n",
              "    </tr>\n",
              "    <tr>\n",
              "      <th>2</th>\n",
              "      <td>Unlimited</td>\n",
              "      <td>Low</td>\n",
              "      <td>Fast</td>\n",
              "      <td>Closed</td>\n",
              "      <td>Busy</td>\n",
              "    </tr>\n",
              "    <tr>\n",
              "      <th>3</th>\n",
              "      <td>Unlimited</td>\n",
              "      <td>High</td>\n",
              "      <td>Fast</td>\n",
              "      <td>Open</td>\n",
              "      <td>Available</td>\n",
              "    </tr>\n",
              "    <tr>\n",
              "      <th>4</th>\n",
              "      <td>Unlimited</td>\n",
              "      <td>High</td>\n",
              "      <td>Slow</td>\n",
              "      <td>Open</td>\n",
              "      <td>Busy</td>\n",
              "    </tr>\n",
              "  </tbody>\n",
              "</table>\n",
              "</div>\n",
              "      <button class=\"colab-df-convert\" onclick=\"convertToInteractive('df-32f50930-87f3-4927-89e3-19d96348864b')\"\n",
              "              title=\"Convert this dataframe to an interactive table.\"\n",
              "              style=\"display:none;\">\n",
              "        \n",
              "  <svg xmlns=\"http://www.w3.org/2000/svg\" height=\"24px\"viewBox=\"0 0 24 24\"\n",
              "       width=\"24px\">\n",
              "    <path d=\"M0 0h24v24H0V0z\" fill=\"none\"/>\n",
              "    <path d=\"M18.56 5.44l.94 2.06.94-2.06 2.06-.94-2.06-.94-.94-2.06-.94 2.06-2.06.94zm-11 1L8.5 8.5l.94-2.06 2.06-.94-2.06-.94L8.5 2.5l-.94 2.06-2.06.94zm10 10l.94 2.06.94-2.06 2.06-.94-2.06-.94-.94-2.06-.94 2.06-2.06.94z\"/><path d=\"M17.41 7.96l-1.37-1.37c-.4-.4-.92-.59-1.43-.59-.52 0-1.04.2-1.43.59L10.3 9.45l-7.72 7.72c-.78.78-.78 2.05 0 2.83L4 21.41c.39.39.9.59 1.41.59.51 0 1.02-.2 1.41-.59l7.78-7.78 2.81-2.81c.8-.78.8-2.07 0-2.86zM5.41 20L4 18.59l7.72-7.72 1.47 1.35L5.41 20z\"/>\n",
              "  </svg>\n",
              "      </button>\n",
              "      \n",
              "  <style>\n",
              "    .colab-df-container {\n",
              "      display:flex;\n",
              "      flex-wrap:wrap;\n",
              "      gap: 12px;\n",
              "    }\n",
              "\n",
              "    .colab-df-convert {\n",
              "      background-color: #E8F0FE;\n",
              "      border: none;\n",
              "      border-radius: 50%;\n",
              "      cursor: pointer;\n",
              "      display: none;\n",
              "      fill: #1967D2;\n",
              "      height: 32px;\n",
              "      padding: 0 0 0 0;\n",
              "      width: 32px;\n",
              "    }\n",
              "\n",
              "    .colab-df-convert:hover {\n",
              "      background-color: #E2EBFA;\n",
              "      box-shadow: 0px 1px 2px rgba(60, 64, 67, 0.3), 0px 1px 3px 1px rgba(60, 64, 67, 0.15);\n",
              "      fill: #174EA6;\n",
              "    }\n",
              "\n",
              "    [theme=dark] .colab-df-convert {\n",
              "      background-color: #3B4455;\n",
              "      fill: #D2E3FC;\n",
              "    }\n",
              "\n",
              "    [theme=dark] .colab-df-convert:hover {\n",
              "      background-color: #434B5C;\n",
              "      box-shadow: 0px 1px 3px 1px rgba(0, 0, 0, 0.15);\n",
              "      filter: drop-shadow(0px 1px 2px rgba(0, 0, 0, 0.3));\n",
              "      fill: #FFFFFF;\n",
              "    }\n",
              "  </style>\n",
              "\n",
              "      <script>\n",
              "        const buttonEl =\n",
              "          document.querySelector('#df-32f50930-87f3-4927-89e3-19d96348864b button.colab-df-convert');\n",
              "        buttonEl.style.display =\n",
              "          google.colab.kernel.accessAllowed ? 'block' : 'none';\n",
              "\n",
              "        async function convertToInteractive(key) {\n",
              "          const element = document.querySelector('#df-32f50930-87f3-4927-89e3-19d96348864b');\n",
              "          const dataTable =\n",
              "            await google.colab.kernel.invokeFunction('convertToInteractive',\n",
              "                                                     [key], {});\n",
              "          if (!dataTable) return;\n",
              "\n",
              "          const docLinkHtml = 'Like what you see? Visit the ' +\n",
              "            '<a target=\"_blank\" href=https://colab.research.google.com/notebooks/data_table.ipynb>data table notebook</a>'\n",
              "            + ' to learn more about interactive tables.';\n",
              "          element.innerHTML = '';\n",
              "          dataTable['output_type'] = 'display_data';\n",
              "          await google.colab.output.renderOutput(dataTable, element);\n",
              "          const docLink = document.createElement('div');\n",
              "          docLink.innerHTML = docLinkHtml;\n",
              "          element.appendChild(docLink);\n",
              "        }\n",
              "      </script>\n",
              "    </div>\n",
              "  </div>\n",
              "  "
            ]
          },
          "metadata": {},
          "execution_count": 102
        }
      ]
    },
    {
      "cell_type": "code",
      "source": [
        "print(tennisDS.columns.tolist())"
      ],
      "metadata": {
        "id": "xOYG6Hr7iwTi",
        "colab": {
          "base_uri": "https://localhost:8080/"
        },
        "outputId": "097f7219-dfec-4ef6-909c-b1e3cb8f0c47"
      },
      "execution_count": 103,
      "outputs": [
        {
          "output_type": "stream",
          "name": "stdout",
          "text": [
            "['Visibility', 'Pressure', 'WindSpeed', 'Court', 'Teammate']\n"
          ]
        }
      ]
    },
    {
      "cell_type": "code",
      "source": [
        "# Giving numerical value to each row name in specific columns in tennisDS\n",
        "tennisDS[\"Visibility\"] = tennisDS[\"Visibility\"].map({\"Unlimited\": 1, \"Limited\": 0})\n",
        "tennisDS[\"Pressure\"] = tennisDS[\"Pressure\"].map({\"High\": 1, \"Low\": 0})\n",
        "tennisDS[\"WindSpeed\"] = tennisDS[\"WindSpeed\"].map({\"Fast\": 1, \"Slow\": 0})\n",
        "tennisDS[\"Court\"] = tennisDS[\"Court\"].map({\"Open\": 1, \"Closed\": 0})\n",
        "tennisDS[\"Teammate\"] = tennisDS[\"Teammate\"].map({\"Available\": 1, \"Busy\": 0})"
      ],
      "metadata": {
        "id": "8u_aG2EVaAiH"
      },
      "execution_count": 104,
      "outputs": []
    },
    {
      "cell_type": "code",
      "source": [
        "tennisDS.head()"
      ],
      "metadata": {
        "id": "89wg1YUclGol",
        "colab": {
          "base_uri": "https://localhost:8080/",
          "height": 206
        },
        "outputId": "4d04ecb2-a624-4b9e-d8fe-cd5bc1181ed8"
      },
      "execution_count": 105,
      "outputs": [
        {
          "output_type": "execute_result",
          "data": {
            "text/plain": [
              "   Visibility  Pressure  WindSpeed  Court  Teammate\n",
              "0           1         1          1      1         1\n",
              "1           0         1          0      1         1\n",
              "2           1         0          1      0         0\n",
              "3           1         1          1      1         1\n",
              "4           1         1          0      1         0"
            ],
            "text/html": [
              "\n",
              "  <div id=\"df-031a0219-06d8-4f20-9047-6619f3217795\">\n",
              "    <div class=\"colab-df-container\">\n",
              "      <div>\n",
              "<style scoped>\n",
              "    .dataframe tbody tr th:only-of-type {\n",
              "        vertical-align: middle;\n",
              "    }\n",
              "\n",
              "    .dataframe tbody tr th {\n",
              "        vertical-align: top;\n",
              "    }\n",
              "\n",
              "    .dataframe thead th {\n",
              "        text-align: right;\n",
              "    }\n",
              "</style>\n",
              "<table border=\"1\" class=\"dataframe\">\n",
              "  <thead>\n",
              "    <tr style=\"text-align: right;\">\n",
              "      <th></th>\n",
              "      <th>Visibility</th>\n",
              "      <th>Pressure</th>\n",
              "      <th>WindSpeed</th>\n",
              "      <th>Court</th>\n",
              "      <th>Teammate</th>\n",
              "    </tr>\n",
              "  </thead>\n",
              "  <tbody>\n",
              "    <tr>\n",
              "      <th>0</th>\n",
              "      <td>1</td>\n",
              "      <td>1</td>\n",
              "      <td>1</td>\n",
              "      <td>1</td>\n",
              "      <td>1</td>\n",
              "    </tr>\n",
              "    <tr>\n",
              "      <th>1</th>\n",
              "      <td>0</td>\n",
              "      <td>1</td>\n",
              "      <td>0</td>\n",
              "      <td>1</td>\n",
              "      <td>1</td>\n",
              "    </tr>\n",
              "    <tr>\n",
              "      <th>2</th>\n",
              "      <td>1</td>\n",
              "      <td>0</td>\n",
              "      <td>1</td>\n",
              "      <td>0</td>\n",
              "      <td>0</td>\n",
              "    </tr>\n",
              "    <tr>\n",
              "      <th>3</th>\n",
              "      <td>1</td>\n",
              "      <td>1</td>\n",
              "      <td>1</td>\n",
              "      <td>1</td>\n",
              "      <td>1</td>\n",
              "    </tr>\n",
              "    <tr>\n",
              "      <th>4</th>\n",
              "      <td>1</td>\n",
              "      <td>1</td>\n",
              "      <td>0</td>\n",
              "      <td>1</td>\n",
              "      <td>0</td>\n",
              "    </tr>\n",
              "  </tbody>\n",
              "</table>\n",
              "</div>\n",
              "      <button class=\"colab-df-convert\" onclick=\"convertToInteractive('df-031a0219-06d8-4f20-9047-6619f3217795')\"\n",
              "              title=\"Convert this dataframe to an interactive table.\"\n",
              "              style=\"display:none;\">\n",
              "        \n",
              "  <svg xmlns=\"http://www.w3.org/2000/svg\" height=\"24px\"viewBox=\"0 0 24 24\"\n",
              "       width=\"24px\">\n",
              "    <path d=\"M0 0h24v24H0V0z\" fill=\"none\"/>\n",
              "    <path d=\"M18.56 5.44l.94 2.06.94-2.06 2.06-.94-2.06-.94-.94-2.06-.94 2.06-2.06.94zm-11 1L8.5 8.5l.94-2.06 2.06-.94-2.06-.94L8.5 2.5l-.94 2.06-2.06.94zm10 10l.94 2.06.94-2.06 2.06-.94-2.06-.94-.94-2.06-.94 2.06-2.06.94z\"/><path d=\"M17.41 7.96l-1.37-1.37c-.4-.4-.92-.59-1.43-.59-.52 0-1.04.2-1.43.59L10.3 9.45l-7.72 7.72c-.78.78-.78 2.05 0 2.83L4 21.41c.39.39.9.59 1.41.59.51 0 1.02-.2 1.41-.59l7.78-7.78 2.81-2.81c.8-.78.8-2.07 0-2.86zM5.41 20L4 18.59l7.72-7.72 1.47 1.35L5.41 20z\"/>\n",
              "  </svg>\n",
              "      </button>\n",
              "      \n",
              "  <style>\n",
              "    .colab-df-container {\n",
              "      display:flex;\n",
              "      flex-wrap:wrap;\n",
              "      gap: 12px;\n",
              "    }\n",
              "\n",
              "    .colab-df-convert {\n",
              "      background-color: #E8F0FE;\n",
              "      border: none;\n",
              "      border-radius: 50%;\n",
              "      cursor: pointer;\n",
              "      display: none;\n",
              "      fill: #1967D2;\n",
              "      height: 32px;\n",
              "      padding: 0 0 0 0;\n",
              "      width: 32px;\n",
              "    }\n",
              "\n",
              "    .colab-df-convert:hover {\n",
              "      background-color: #E2EBFA;\n",
              "      box-shadow: 0px 1px 2px rgba(60, 64, 67, 0.3), 0px 1px 3px 1px rgba(60, 64, 67, 0.15);\n",
              "      fill: #174EA6;\n",
              "    }\n",
              "\n",
              "    [theme=dark] .colab-df-convert {\n",
              "      background-color: #3B4455;\n",
              "      fill: #D2E3FC;\n",
              "    }\n",
              "\n",
              "    [theme=dark] .colab-df-convert:hover {\n",
              "      background-color: #434B5C;\n",
              "      box-shadow: 0px 1px 3px 1px rgba(0, 0, 0, 0.15);\n",
              "      filter: drop-shadow(0px 1px 2px rgba(0, 0, 0, 0.3));\n",
              "      fill: #FFFFFF;\n",
              "    }\n",
              "  </style>\n",
              "\n",
              "      <script>\n",
              "        const buttonEl =\n",
              "          document.querySelector('#df-031a0219-06d8-4f20-9047-6619f3217795 button.colab-df-convert');\n",
              "        buttonEl.style.display =\n",
              "          google.colab.kernel.accessAllowed ? 'block' : 'none';\n",
              "\n",
              "        async function convertToInteractive(key) {\n",
              "          const element = document.querySelector('#df-031a0219-06d8-4f20-9047-6619f3217795');\n",
              "          const dataTable =\n",
              "            await google.colab.kernel.invokeFunction('convertToInteractive',\n",
              "                                                     [key], {});\n",
              "          if (!dataTable) return;\n",
              "\n",
              "          const docLinkHtml = 'Like what you see? Visit the ' +\n",
              "            '<a target=\"_blank\" href=https://colab.research.google.com/notebooks/data_table.ipynb>data table notebook</a>'\n",
              "            + ' to learn more about interactive tables.';\n",
              "          element.innerHTML = '';\n",
              "          dataTable['output_type'] = 'display_data';\n",
              "          await google.colab.output.renderOutput(dataTable, element);\n",
              "          const docLink = document.createElement('div');\n",
              "          docLink.innerHTML = docLinkHtml;\n",
              "          element.appendChild(docLink);\n",
              "        }\n",
              "      </script>\n",
              "    </div>\n",
              "  </div>\n",
              "  "
            ]
          },
          "metadata": {},
          "execution_count": 105
        }
      ]
    },
    {
      "cell_type": "code",
      "source": [
        "# Detect if the data is missing values\n",
        "pd.isna(tennisDS)"
      ],
      "metadata": {
        "id": "_x55cZ8f022f"
      },
      "execution_count": null,
      "outputs": []
    },
    {
      "cell_type": "code",
      "source": [
        "# Separating the data variables into two data frames\n",
        "X = tennisDS.drop([\"Teammate\"], axis=1)\n",
        "Y = tennisDS[\"Teammate\"]\n",
        "\n",
        "# Splitting the dataset into 70% training data and 30% testing data\n",
        "X_train, X_test, Y_train, Y_test = train_test_split(X, Y, test_size=.30, random_state=0)\n",
        "\n",
        "# Building the decision tree model on our dataset\n",
        "model = DecisionTreeRegressor().fit(X_train,Y_train)\n",
        "predict = model.predict(X_test)\n",
        "\n",
        "predict"
      ],
      "metadata": {
        "id": "UNvh0MAks7AJ",
        "colab": {
          "base_uri": "https://localhost:8080/"
        },
        "outputId": "56cba4dc-8d67-4088-baf8-a9cd9d251e2b"
      },
      "execution_count": 107,
      "outputs": [
        {
          "output_type": "execute_result",
          "data": {
            "text/plain": [
              "array([0.2 , 1.  , 0.25, 1.  , 0.  , 1.  , 1.  , 0.  ])"
            ]
          },
          "metadata": {},
          "execution_count": 107
        }
      ]
    },
    {
      "cell_type": "markdown",
      "source": [
        "**Part B**"
      ],
      "metadata": {
        "id": "UKnfZ1eEIebf"
      }
    },
    {
      "cell_type": "code",
      "source": [
        "from sklearn import tree\n",
        "from sklearn import datasets\n",
        "from sklearn.metrics import accuracy_score"
      ],
      "metadata": {
        "id": "W6KyGGVFIeNA"
      },
      "execution_count": 108,
      "outputs": []
    },
    {
      "cell_type": "code",
      "source": [
        "covidDS = pd.read_csv(\"/content/covidDS.csv\")\n",
        "covidDS.shape"
      ],
      "metadata": {
        "colab": {
          "base_uri": "https://localhost:8080/"
        },
        "id": "SjHrTE5iMguN",
        "outputId": "1a4c88bf-08ef-43f7-e449-4342fccb6742"
      },
      "execution_count": 109,
      "outputs": [
        {
          "output_type": "execute_result",
          "data": {
            "text/plain": [
              "(35, 3)"
            ]
          },
          "metadata": {},
          "execution_count": 109
        }
      ]
    },
    {
      "cell_type": "code",
      "source": [
        "# Detect if the data is missing values\n",
        "pd.isna(covidDS)"
      ],
      "metadata": {
        "id": "xfkEUPWw6LEV"
      },
      "execution_count": null,
      "outputs": []
    },
    {
      "cell_type": "code",
      "source": [
        "# Splitting the dataset into 70% training data and 30% testing data\n",
        "X_train , X_test, Y_train, Y_test = train_test_split(covidDS.iloc[:,:-1].values, covidDS.iloc[:,-1].values, test_size=0.3)"
      ],
      "metadata": {
        "id": "mPIO9BqLMxEI"
      },
      "execution_count": 111,
      "outputs": []
    },
    {
      "cell_type": "code",
      "source": [
        "dtc = DecisionTreeClassifier().fit(X_train,Y_train.ravel())\n",
        "Y_prediction = dtc.predict(X_test)\n",
        "print(accuracy_score(Y_test,Y_prediction))"
      ],
      "metadata": {
        "id": "d0n7cFO_S_s_",
        "colab": {
          "base_uri": "https://localhost:8080/"
        },
        "outputId": "e6079e09-73ad-49d3-8d4a-8d27c4107b53"
      },
      "execution_count": 112,
      "outputs": [
        {
          "output_type": "stream",
          "name": "stdout",
          "text": [
            "0.6363636363636364\n"
          ]
        }
      ]
    }
  ]
}