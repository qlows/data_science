{
  "nbformat": 4,
  "nbformat_minor": 0,
  "metadata": {
    "colab": {
      "provenance": [],
      "collapsed_sections": []
    },
    "kernelspec": {
      "name": "python3",
      "display_name": "Python 3"
    },
    "language_info": {
      "name": "python"
    }
  },
  "cells": [
    {
      "cell_type": "markdown",
      "source": [
        "#UMIT KILINC\n",
        "#101232721"
      ],
      "metadata": {
        "id": "PibU2FZO4iq3"
      }
    },
    {
      "cell_type": "markdown",
      "source": [
        "**Part A**"
      ],
      "metadata": {
        "id": "ifmmfhL-ImK8"
      }
    },
    {
      "cell_type": "code",
      "source": [
        "import pandas as pd\n",
        "import numpy as np\n",
        "from sklearn.tree import DecisionTreeClassifier\n",
        "from sklearn.tree import DecisionTreeRegressor\n",
        "from sklearn import metrics\n",
        "from sklearn.model_selection import train_test_split"
      ],
      "metadata": {
        "id": "AdTm348Q433v"
      },
      "execution_count": 3,
      "outputs": []
    },
    {
      "cell_type": "code",
      "source": [
        "tennisDS = pd.read_csv(\"/content/tennisDS.csv\")"
      ],
      "metadata": {
        "id": "9MvVmvXV5OYf"
      },
      "execution_count": null,
      "outputs": []
    },
    {
      "cell_type": "code",
      "source": [
        "print(tennisDS.shape)"
      ],
      "metadata": {
        "id": "5xY1ec3CH1nA"
      },
      "execution_count": null,
      "outputs": []
    },
    {
      "cell_type": "code",
      "source": [
        "tennisDS.head()"
      ],
      "metadata": {
        "id": "YrngxSoeJYcB"
      },
      "execution_count": null,
      "outputs": []
    },
    {
      "cell_type": "code",
      "source": [
        "print(tennisDS.columns.tolist())"
      ],
      "metadata": {
        "id": "xOYG6Hr7iwTi"
      },
      "execution_count": null,
      "outputs": []
    },
    {
      "cell_type": "code",
      "source": [
        "# Giving numerical value to each row name in specific columns in tennisDS\n",
        "tennisDS[\"Visibility\"] = tennisDS[\"Visibility\"].map({\"Unlimited\": 1, \"Limited\": 0})\n",
        "tennisDS[\"Pressure\"] = tennisDS[\"Pressure\"].map({\"High\": 1, \"Low\": 0})\n",
        "tennisDS[\"WindSpeed\"] = tennisDS[\"WindSpeed\"].map({\"Fast\": 1, \"Slow\": 0})\n",
        "tennisDS[\"Court\"] = tennisDS[\"Court\"].map({\"Open\": 1, \"Closed\": 0})\n",
        "tennisDS[\"Teammate\"] = tennisDS[\"Teammate\"].map({\"Available\": 1, \"Busy\": 0})"
      ],
      "metadata": {
        "id": "8u_aG2EVaAiH"
      },
      "execution_count": null,
      "outputs": []
    },
    {
      "cell_type": "code",
      "source": [
        "# Replace NULL values with the number\n",
        "# tennisDS = tennisDS.fillna(0)"
      ],
      "metadata": {
        "id": "W4sA9X-v7GGn"
      },
      "execution_count": null,
      "outputs": []
    },
    {
      "cell_type": "code",
      "source": [
        "tennisDS.head()"
      ],
      "metadata": {
        "id": "89wg1YUclGol"
      },
      "execution_count": null,
      "outputs": []
    },
    {
      "cell_type": "code",
      "source": [
        "test_tennisDS = pd.read_csv(\"/content/test_tennisDB.csv\")"
      ],
      "metadata": {
        "id": "KThLNwM5lIc0"
      },
      "execution_count": null,
      "outputs": []
    },
    {
      "cell_type": "code",
      "source": [
        "test_tennisDS.head()"
      ],
      "metadata": {
        "id": "xJykxoFhqKFt"
      },
      "execution_count": null,
      "outputs": []
    },
    {
      "cell_type": "code",
      "source": [
        "# Detect if the data is missing values\n",
        "pd.isna(test_tennisDS)"
      ],
      "metadata": {
        "id": "jtQNAOU0qMmm"
      },
      "execution_count": null,
      "outputs": []
    },
    {
      "cell_type": "code",
      "source": [
        "# Detect if the data is missing values\n",
        "pd.isna(tennisDS)"
      ],
      "metadata": {
        "id": "_x55cZ8f022f"
      },
      "execution_count": null,
      "outputs": []
    },
    {
      "cell_type": "code",
      "source": [
        "test_tennisDS.shape"
      ],
      "metadata": {
        "id": "NSUYwk-k0jU9"
      },
      "execution_count": null,
      "outputs": []
    },
    {
      "cell_type": "code",
      "source": [
        "# Giving numerical value to each row name in specific columns in test_tennisDS\n",
        "test_tennisDS[\"Visibility\"] = test_tennisDS[\"Visibility\"].map({\"Unlimited\": 1, \"Limited\": 0})\n",
        "test_tennisDS[\"Pressure\"] = test_tennisDS[\"Pressure\"].map({\"High\": 1, \"Low\": 0})\n",
        "test_tennisDS[\"WindSpeed\"] = test_tennisDS[\"WindSpeed\"].map({\"Fast\": 1, \"Slow\": 0})\n",
        "test_tennisDS[\"Court\"] = test_tennisDS[\"Court\"].map({\"Open\": 1, \"Closed\t\": 0})\n",
        "test_tennisDS[\"Teammate\"] = test_tennisDS[\"Teammate\"].map({\"Available\": 1, \"Busy\": 0})"
      ],
      "metadata": {
        "id": "QI3I0Z9S076j"
      },
      "execution_count": null,
      "outputs": []
    },
    {
      "cell_type": "code",
      "source": [
        "# Separating the data variables into two data frames\n",
        "X = tennisDS.drop([\"Teammate\"], axis=1)\n",
        "Y = tennisDS[\"Teammate\"]\n",
        "\n",
        "# Splitting the dataset into 70% training data and 30% testing data\n",
        "X_train, X_test, Y_train, Y_test = train_test_split(X, Y, test_size=.30, random_state=0)\n",
        "\n",
        "# Building the decision tree model on our dataset\n",
        "model = DecisionTreeRegressor().fit(X_train,Y_train)\n",
        "predict = model.predict(X_test)\n",
        "\n",
        "predict"
      ],
      "metadata": {
        "id": "UNvh0MAks7AJ"
      },
      "execution_count": null,
      "outputs": []
    },
    {
      "cell_type": "markdown",
      "source": [
        "**Part B**"
      ],
      "metadata": {
        "id": "UKnfZ1eEIebf"
      }
    },
    {
      "cell_type": "code",
      "source": [
        "from sklearn import tree\n",
        "from sklearn import datasets\n",
        "from sklearn.metrics import accuracy_score"
      ],
      "metadata": {
        "id": "W6KyGGVFIeNA"
      },
      "execution_count": 4,
      "outputs": []
    },
    {
      "cell_type": "code",
      "source": [
        "covidDS = pd.read_csv(\"/content/covidDS.csv\")\n",
        "covidDS.shape"
      ],
      "metadata": {
        "id": "SjHrTE5iMguN"
      },
      "execution_count": null,
      "outputs": []
    },
    {
      "cell_type": "code",
      "source": [
        "# Detect if the data is missing values\n",
        "pd.isna(covidDS)"
      ],
      "metadata": {
        "id": "xfkEUPWw6LEV"
      },
      "execution_count": null,
      "outputs": []
    },
    {
      "cell_type": "code",
      "source": [
        "covidDS.head()"
      ],
      "metadata": {
        "id": "qcSlY2fG40fx"
      },
      "execution_count": null,
      "outputs": []
    },
    {
      "cell_type": "code",
      "source": [
        "print(covidDS.columns.tolist())"
      ],
      "metadata": {
        "id": "FWE17nAx4nSj"
      },
      "execution_count": null,
      "outputs": []
    },
    {
      "cell_type": "code",
      "source": [
        "# Splitting the dataset into 70% training data and 30% testing data\n",
        "X_train , X_test, Y_train, Y_test = train_test_split(covidDS.iloc[:,:-1].values, covidDS.iloc[:,-1].values, test_size=0.3)"
      ],
      "metadata": {
        "id": "mPIO9BqLMxEI"
      },
      "execution_count": 10,
      "outputs": []
    },
    {
      "cell_type": "code",
      "source": [
        "dtc = DecisionTreeClassifier().fit(X_train,Y_train.ravel())\n",
        "Y_prediction = dtc.predict(X_test)\n",
        "print(accuracy_score(Y_test,Y_prediction))"
      ],
      "metadata": {
        "id": "d0n7cFO_S_s_"
      },
      "execution_count": null,
      "outputs": []
    }
  ]
}